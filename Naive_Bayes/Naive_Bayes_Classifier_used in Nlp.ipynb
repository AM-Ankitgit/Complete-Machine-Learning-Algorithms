{
 "cells": [
  {
   "cell_type": "code",
   "execution_count": null,
   "id": "232e549f",
   "metadata": {},
   "outputs": [],
   "source": [
    "# High dimensional Data \n",
    "No of Rows  < No of Features\n",
    "\n",
    "1) Gausssian Naive Bayes  >> Only cont (kdeplot , QQPLOT)\n",
    "2) Multinomial Naive Bayes > Text data >Descrete form of data >> TFIDF \n",
    "3) Bernoulli Naive Bayes >> Binary Data"
   ]
  },
  {
   "cell_type": "code",
   "execution_count": null,
   "id": "f77f04a9",
   "metadata": {},
   "outputs": [],
   "source": [
    "overcast\thot\thigh\tFALSE   play?\n",
    "rainy\tmild\tnormal\tFALSE   play ?\n",
    "\n",
    "\n",
    "Outlook        Yes    No     P(Yes)    P(No)\n",
    " Overcast      4Y and 0N     4/9        0/5\n",
    " rainy         3Y and 2N     3/9        2/5     \n",
    " Sunny         2Y  and 3N     2/9       3/5\n",
    "\n",
    "temperature    Yes    No     P(Yes)    P(No)\n",
    "Hot          (2Y and 2N)      2/9       2/5\n",
    "mild         (4Y and 2N)       4/9       2/5\n",
    "cool         (3Y and 1N        3/9       1/5\n",
    "\n",
    "humidity      Yes    No     P(Yes)    P(No)\n",
    "High         (3Y and 4N)      3/9      4/5\n",
    "Normal       (6Y and 1N        6/9      1/5\n",
    "\n",
    "windy       Yes    No     P(Yes)    P(No)\n",
    "TRUE        (3Y and 3N)    3/9       3/5\n",
    "FALSE       (6Y and 2N)     6/9       2/5\n",
    "\n",
    "P(Yes)  = 9/14\n",
    "P(NO)   =5/14"
   ]
  },
  {
   "cell_type": "code",
   "execution_count": null,
   "id": "65d7ded8",
   "metadata": {},
   "outputs": [],
   "source": [
    "# rainy\tmild\tnormal\tFALSE   Play ? ans>>>>Yes\n",
    "P(Play=yes|{Outlook=rainy,temp=mild,humidity=normal,windy=False})\n",
    "= P(Yes).P(rainy/play=yes).P(mild|play=yes).P(normal|play=yes).P(False|play=yes)\n",
    "=(9/14)*(3/9)*(4/9)*(6/9)*(6/9)\n",
    "= 0.9024770"
   ]
  },
  {
   "cell_type": "code",
   "execution_count": null,
   "id": "e5ed5ba3",
   "metadata": {},
   "outputs": [],
   "source": [
    "P(Play=No|{Outlook=rainy,temp=mild,humidity=normal,windy=False})\n",
    "=  P(No).P(rainy/play=No).P(mild|play=No).P(normal|play=No).P(False|play=No)\n",
    "=(5/14)*(2/5)*(2/5)*(1/5)*(2/5)\n",
    "= 0.0975"
   ]
  },
  {
   "cell_type": "code",
   "execution_count": 1,
   "id": "33143061",
   "metadata": {},
   "outputs": [
    {
     "data": {
      "text/plain": [
       "0.042328042328042326"
      ]
     },
     "execution_count": 1,
     "metadata": {},
     "output_type": "execute_result"
    }
   ],
   "source": [
    "(9/14)*(3/9)*(4/9)*(6/9)*(6/9)"
   ]
  },
  {
   "cell_type": "code",
   "execution_count": 2,
   "id": "0ecec6cc",
   "metadata": {},
   "outputs": [
    {
     "data": {
      "text/plain": [
       "0.004571428571428573"
      ]
     },
     "execution_count": 2,
     "metadata": {},
     "output_type": "execute_result"
    }
   ],
   "source": [
    "(5/14)*(2/5)*(2/5)*(1/5)*(2/5)"
   ]
  },
  {
   "cell_type": "code",
   "execution_count": 1,
   "id": "36e756dc",
   "metadata": {},
   "outputs": [
    {
     "data": {
      "text/plain": [
       "0.046870999999999996"
      ]
     },
     "execution_count": 1,
     "metadata": {},
     "output_type": "execute_result"
    }
   ],
   "source": [
    "0.0423 +  0.004571"
   ]
  },
  {
   "cell_type": "code",
   "execution_count": 3,
   "id": "c6fef1c6",
   "metadata": {},
   "outputs": [
    {
     "data": {
      "text/plain": [
       "0.09752298862836296"
      ]
     },
     "execution_count": 3,
     "metadata": {},
     "output_type": "execute_result"
    }
   ],
   "source": [
    "0.004571 /(0.0423 +  0.004571)"
   ]
  },
  {
   "cell_type": "code",
   "execution_count": null,
   "id": "f40ede64",
   "metadata": {},
   "outputs": [],
   "source": [
    "overcast\thot\thigh\tFALSE   play?\n",
    "P(Play=yes|{Outlook=overcast,temp=hot,humidity=high,windy=FALSE})\n",
    "= P(Yes).P(overcast/play=yes).P(hot|play=yes).P(high|play=yes).P(False|play=yes)"
   ]
  },
  {
   "cell_type": "code",
   "execution_count": null,
   "id": "d150e7c4",
   "metadata": {},
   "outputs": [],
   "source": [
    "P(Play=No|{Outlook=overcast,temp=hot,humidity=high,windy=FALSE})\n",
    "= P(No).P(overcast/play=No).P(hot|play=No).P(high|play=No).P(False|play=No)"
   ]
  },
  {
   "cell_type": "markdown",
   "id": "aa243394",
   "metadata": {},
   "source": [
    "# Laplace Estimator"
   ]
  },
  {
   "cell_type": "code",
   "execution_count": null,
   "id": "cab4bbc7",
   "metadata": {},
   "outputs": [],
   "source": [
    "# >> used to solve zero frequency problem\n",
    "P(Xi|Y=yes) =  (NC + Alpha) /((n + m))\n",
    "NC   >>> No of instances where y = yes  or y =no for that perticular feature\n",
    "ALPHA >>  laplace paramter > use to reduce an error  alpha =1\n",
    "n   > Total no of y_value= yes or y_value =No\n",
    "m  > No of unique value present in that feature"
   ]
  },
  {
   "cell_type": "markdown",
   "id": "55440fd3",
   "metadata": {},
   "source": [
    "zero frequency problem>>>If an instance in test data set has a category that was not present during training then it will assign it “Zero” probability and won't be able to make prediction."
   ]
  },
  {
   "cell_type": "code",
   "execution_count": null,
   "id": "24954727",
   "metadata": {},
   "outputs": [],
   "source": []
  }
 ],
 "metadata": {
  "kernelspec": {
   "display_name": "Python 3",
   "language": "python",
   "name": "python3"
  },
  "language_info": {
   "codemirror_mode": {
    "name": "ipython",
    "version": 3
   },
   "file_extension": ".py",
   "mimetype": "text/x-python",
   "name": "python",
   "nbconvert_exporter": "python",
   "pygments_lexer": "ipython3",
   "version": "3.8.8"
  }
 },
 "nbformat": 4,
 "nbformat_minor": 5
}
