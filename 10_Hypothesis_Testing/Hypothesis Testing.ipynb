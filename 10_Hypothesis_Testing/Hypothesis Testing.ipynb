{
 "cells": [
  {
   "cell_type": "code",
   "execution_count": null,
   "id": "dc346067",
   "metadata": {},
   "outputs": [],
   "source": [
    "H0 >> Null Hypothesis\n",
    "H1 >> Alternate Hypothesis"
   ]
  },
  {
   "cell_type": "code",
   "execution_count": null,
   "id": "2ccc871f",
   "metadata": {},
   "outputs": [],
   "source": [
    "p_val  = it is probablity of Null Hypotheis being True\n",
    "p_val = 0.05\n",
    "\n",
    "p_val > 0.05 = True\n",
    "      we are accepting Null Hypothesis\n",
    "p_val > 0.05 = False\n",
    "     we are rejecting Null Hypotheis"
   ]
  },
  {
   "cell_type": "code",
   "execution_count": null,
   "id": "3f10ec80",
   "metadata": {},
   "outputs": [],
   "source": [
    "# Null and Alternate Hypothesis\n",
    "1) The null Hypothesis (H0) : New drug has no effect on symptoms of the disease\n",
    "2) Alternate Hypothesis (H1) : Drug is effective for alleviating symptoms of the disease"
   ]
  },
  {
   "cell_type": "code",
   "execution_count": null,
   "id": "ea127ff1",
   "metadata": {},
   "outputs": [],
   "source": [
    "Example : \n",
    "    using t-test if you obtaine p_val  = 0.035 (3.5%) is lower than significant value (5%)\n",
    "    we are going to reject Null Hypotheis\n",
    "However , p_value means that there is 3.5% chances of your results occuring if the NULL hypothesis\n",
    "is TRUE,  Therfore there is still a risk of making a type I -error"
   ]
  },
  {
   "cell_type": "markdown",
   "id": "010c7f11",
   "metadata": {},
   "source": [
    "## Test"
   ]
  },
  {
   "cell_type": "code",
   "execution_count": 2,
   "id": "bf0e8e2f",
   "metadata": {},
   "outputs": [],
   "source": [
    "from scipy.stats import shapiro,kstest,normaltest"
   ]
  },
  {
   "cell_type": "code",
   "execution_count": null,
   "id": "42ac3d07",
   "metadata": {},
   "outputs": [],
   "source": [
    "1. shapiro Test\n",
    "2. kstest\n",
    "3. normal test\n",
    "4. chi-square test\n",
    "5. ANNOVA\n",
    "6. T-test\n",
    "7. z-test"
   ]
  },
  {
   "cell_type": "markdown",
   "id": "9082ada1",
   "metadata": {},
   "source": [
    "## 1. shapiro"
   ]
  },
  {
   "cell_type": "code",
   "execution_count": 4,
   "id": "bb91ad82",
   "metadata": {},
   "outputs": [],
   "source": [
    "from scipy.stats import shapiro"
   ]
  },
  {
   "cell_type": "code",
   "execution_count": 6,
   "id": "5ef6f847",
   "metadata": {},
   "outputs": [
    {
     "data": {
      "text/html": [
       "<div>\n",
       "<style scoped>\n",
       "    .dataframe tbody tr th:only-of-type {\n",
       "        vertical-align: middle;\n",
       "    }\n",
       "\n",
       "    .dataframe tbody tr th {\n",
       "        vertical-align: top;\n",
       "    }\n",
       "\n",
       "    .dataframe thead th {\n",
       "        text-align: right;\n",
       "    }\n",
       "</style>\n",
       "<table border=\"1\" class=\"dataframe\">\n",
       "  <thead>\n",
       "    <tr style=\"text-align: right;\">\n",
       "      <th></th>\n",
       "      <th>Pregnancies</th>\n",
       "      <th>Glucose</th>\n",
       "      <th>BloodPressure</th>\n",
       "      <th>SkinThickness</th>\n",
       "      <th>Insulin</th>\n",
       "      <th>BMI</th>\n",
       "      <th>DiabetesPedigreeFunction</th>\n",
       "      <th>Age</th>\n",
       "      <th>Outcome</th>\n",
       "    </tr>\n",
       "  </thead>\n",
       "  <tbody>\n",
       "    <tr>\n",
       "      <th>0</th>\n",
       "      <td>6</td>\n",
       "      <td>148</td>\n",
       "      <td>72</td>\n",
       "      <td>35</td>\n",
       "      <td>0</td>\n",
       "      <td>33.6</td>\n",
       "      <td>0.627</td>\n",
       "      <td>50</td>\n",
       "      <td>1</td>\n",
       "    </tr>\n",
       "    <tr>\n",
       "      <th>1</th>\n",
       "      <td>1</td>\n",
       "      <td>85</td>\n",
       "      <td>66</td>\n",
       "      <td>29</td>\n",
       "      <td>0</td>\n",
       "      <td>26.6</td>\n",
       "      <td>0.351</td>\n",
       "      <td>31</td>\n",
       "      <td>0</td>\n",
       "    </tr>\n",
       "    <tr>\n",
       "      <th>2</th>\n",
       "      <td>8</td>\n",
       "      <td>183</td>\n",
       "      <td>64</td>\n",
       "      <td>0</td>\n",
       "      <td>0</td>\n",
       "      <td>23.3</td>\n",
       "      <td>0.672</td>\n",
       "      <td>32</td>\n",
       "      <td>1</td>\n",
       "    </tr>\n",
       "    <tr>\n",
       "      <th>3</th>\n",
       "      <td>1</td>\n",
       "      <td>89</td>\n",
       "      <td>66</td>\n",
       "      <td>23</td>\n",
       "      <td>94</td>\n",
       "      <td>28.1</td>\n",
       "      <td>0.167</td>\n",
       "      <td>21</td>\n",
       "      <td>0</td>\n",
       "    </tr>\n",
       "    <tr>\n",
       "      <th>4</th>\n",
       "      <td>0</td>\n",
       "      <td>137</td>\n",
       "      <td>40</td>\n",
       "      <td>35</td>\n",
       "      <td>168</td>\n",
       "      <td>43.1</td>\n",
       "      <td>2.288</td>\n",
       "      <td>33</td>\n",
       "      <td>1</td>\n",
       "    </tr>\n",
       "  </tbody>\n",
       "</table>\n",
       "</div>"
      ],
      "text/plain": [
       "   Pregnancies  Glucose  BloodPressure  SkinThickness  Insulin   BMI  \\\n",
       "0            6      148             72             35        0  33.6   \n",
       "1            1       85             66             29        0  26.6   \n",
       "2            8      183             64              0        0  23.3   \n",
       "3            1       89             66             23       94  28.1   \n",
       "4            0      137             40             35      168  43.1   \n",
       "\n",
       "   DiabetesPedigreeFunction  Age  Outcome  \n",
       "0                     0.627   50        1  \n",
       "1                     0.351   31        0  \n",
       "2                     0.672   32        1  \n",
       "3                     0.167   21        0  \n",
       "4                     2.288   33        1  "
      ]
     },
     "execution_count": 6,
     "metadata": {},
     "output_type": "execute_result"
    }
   ],
   "source": [
    "import pandas as pd\n",
    "df = pd.read_csv(\"diabetes.csv\")\n",
    "df.head()"
   ]
  },
  {
   "cell_type": "raw",
   "id": "9f0e79ce",
   "metadata": {},
   "source": [
    "H0 = Age DATA is normally distributed\n",
    "H1 = AGE data is not normally distributed "
   ]
  },
  {
   "cell_type": "code",
   "execution_count": 8,
   "id": "f4b84f77",
   "metadata": {},
   "outputs": [],
   "source": [
    "import seaborn as sns"
   ]
  },
  {
   "cell_type": "code",
   "execution_count": 9,
   "id": "1b3f0ae3",
   "metadata": {},
   "outputs": [
    {
     "data": {
      "text/plain": [
       "<AxesSubplot:xlabel='Age', ylabel='Density'>"
      ]
     },
     "execution_count": 9,
     "metadata": {},
     "output_type": "execute_result"
    },
    {
     "data": {
      "image/png": "[encoded data removed]",
      "text/plain": [
       "<Figure size 432x288 with 1 Axes>"
      ]
     },
     "metadata": {
      "needs_background": "light"
     },
     "output_type": "display_data"
    }
   ],
   "source": [
    "sns.kdeplot(df[\"Age\"],fill=True)"
   ]
  },
  {
   "cell_type": "code",
   "execution_count": 10,
   "id": "2c6d948e",
   "metadata": {},
   "outputs": [
    {
     "name": "stdout",
     "output_type": "stream",
     "text": [
      "Age is skewed\n",
      "Accepting alternate Hypothesis\n"
     ]
    }
   ],
   "source": [
    "_,p_val = shapiro(df[\"Age\"])\n",
    "if p_val > 0.05:\n",
    "    print(\"Age is normally distributed\")\n",
    "    print(\"accepting Null Hypothesis\")\n",
    "else:\n",
    "    print(\"Age is skewed\")\n",
    "    print(\"Accepting alternate Hypothesis\")"
   ]
  },
  {
   "cell_type": "markdown",
   "id": "550535cb",
   "metadata": {},
   "source": [
    "## 2.kstest"
   ]
  },
  {
   "cell_type": "code",
   "execution_count": 13,
   "id": "98e79ce9",
   "metadata": {},
   "outputs": [],
   "source": [
    "from scipy.stats import kstest,normaltest"
   ]
  },
  {
   "cell_type": "code",
   "execution_count": 12,
   "id": "5af16861",
   "metadata": {},
   "outputs": [
    {
     "name": "stdout",
     "output_type": "stream",
     "text": [
      "Age is skewed\n",
      "Accepting alternate Hypothesis\n"
     ]
    }
   ],
   "source": [
    "_,p_val = kstest(df[\"Age\"],\"norm\")\n",
    "if p_val > 0.05:\n",
    "    print(\"Age is normally distributed\")\n",
    "    print(\"accepting Null Hypothesis\")\n",
    "else:\n",
    "    print(\"Age is skewed\")\n",
    "    print(\"Accepting alternate Hypothesis\")"
   ]
  },
  {
   "cell_type": "markdown",
   "id": "39728894",
   "metadata": {},
   "source": [
    "## 3. NORMAL TEST"
   ]
  },
  {
   "cell_type": "code",
   "execution_count": 14,
   "id": "7ea74fbf",
   "metadata": {},
   "outputs": [
    {
     "name": "stdout",
     "output_type": "stream",
     "text": [
      "Age is skewed\n",
      "Accepting alternate Hypothesis\n"
     ]
    }
   ],
   "source": [
    "_,p_val = normaltest(df[\"Age\"])\n",
    "if p_val > 0.05:\n",
    "    print(\"Age is normally distributed\")\n",
    "    print(\"accepting Null Hypothesis\")\n",
    "else:\n",
    "    print(\"Age is skewed\")\n",
    "    print(\"Accepting alternate Hypothesis\")"
   ]
  },
  {
   "cell_type": "code",
   "execution_count": null,
   "id": "b53827c3",
   "metadata": {},
   "outputs": [],
   "source": [
    "-0.5 to 0.5 >>>  Symetrical distribution\n",
    "-1 to -0.5 >>> Negative skewed distribution\n",
    "-1         >  Highly  Negative skewed distribution (-1.2,-1.3)\n",
    "\n",
    "+0.5 to 1.0 >>> Postive Skewd distribution\n",
    ">+1.0       >> Highly Positive Skewed Distribution"
   ]
  },
  {
   "cell_type": "code",
   "execution_count": 15,
   "id": "69903687",
   "metadata": {},
   "outputs": [
    {
     "data": {
      "text/plain": [
       "1.1295967011444805"
      ]
     },
     "execution_count": 15,
     "metadata": {},
     "output_type": "execute_result"
    }
   ],
   "source": [
    "df[\"Age\"].skew()"
   ]
  },
  {
   "cell_type": "markdown",
   "id": "09414d93",
   "metadata": {},
   "source": [
    "## T Test"
   ]
  },
  {
   "cell_type": "code",
   "execution_count": null,
   "id": "698063ac",
   "metadata": {},
   "outputs": [],
   "source": [
    "# if number of samples or data points or row are less than 30"
   ]
  },
  {
   "cell_type": "code",
   "execution_count": null,
   "id": "a7b660ff",
   "metadata": {},
   "outputs": [],
   "source": [
    "t-test assumes that :\n",
    "    1) Data are continues\n",
    "    2) sample data have been randomly sampled from population\n",
    "    3) There is homogeneity of variance \n",
    "    4) Distribution is aproximatly normal\n",
    "Purpose of t-Test is >>>>\n",
    "Decide if the population mean is equal to specific value or not"
   ]
  },
  {
   "cell_type": "code",
   "execution_count": 17,
   "id": "9d0ce23c",
   "metadata": {},
   "outputs": [],
   "source": [
    "from scipy.stats import ttest_1samp"
   ]
  },
  {
   "cell_type": "code",
   "execution_count": 20,
   "id": "dd4610a9",
   "metadata": {},
   "outputs": [
    {
     "data": {
      "text/plain": [
       "37.88"
      ]
     },
     "execution_count": 20,
     "metadata": {},
     "output_type": "execute_result"
    }
   ],
   "source": [
    "arr = df[\"Age\"].head(25)\n",
    "arr.mean()"
   ]
  },
  {
   "cell_type": "code",
   "execution_count": 21,
   "id": "703eb4d3",
   "metadata": {},
   "outputs": [
    {
     "data": {
      "text/plain": [
       "33.240885416666664"
      ]
     },
     "execution_count": 21,
     "metadata": {},
     "output_type": "execute_result"
    }
   ],
   "source": [
    "df[\"Age\"].mean()"
   ]
  },
  {
   "cell_type": "code",
   "execution_count": 22,
   "id": "6560d426",
   "metadata": {},
   "outputs": [
    {
     "name": "stdout",
     "output_type": "stream",
     "text": [
      "Alternate hypothesis is accepeted\n"
     ]
    }
   ],
   "source": [
    "_,p_val = ttest_1samp(df[\"Age\"],arr.mean())\n",
    "if p_val >0.05:\n",
    "    print(\"Null hypothisis is accepted\")\n",
    "else:\n",
    "    print(\"Alternate hypothesis is accepeted\")"
   ]
  },
  {
   "cell_type": "markdown",
   "id": "3a431cca",
   "metadata": {},
   "source": [
    "## Z-TEST"
   ]
  },
  {
   "cell_type": "raw",
   "id": "0ac07e8a",
   "metadata": {},
   "source": [
    "if number of sample are more than 30 \n",
    "assumes :\n",
    "     1) The sample from each population must be independent of one another\n",
    "     2) use to anlyze whethere two population sample means are differnet or not when variance are unknown"
   ]
  },
  {
   "cell_type": "code",
   "execution_count": 23,
   "id": "8e838dcb",
   "metadata": {},
   "outputs": [],
   "source": [
    "from statsmodels.stats.weightstats import ztest"
   ]
  },
  {
   "cell_type": "code",
   "execution_count": 25,
   "id": "4246142c",
   "metadata": {},
   "outputs": [
    {
     "name": "stdout",
     "output_type": "stream",
     "text": [
      "Null Hypothisis is TRUE >>ACCEPTED\n"
     ]
    }
   ],
   "source": [
    "# df \n",
    "df1 = df.iloc[20:80]\n",
    "df2 = df.iloc[50:120]\n",
    "mean1 = df1[\"Age\"].mean() # more than 30\n",
    "mean2 = df2[\"Age\"].mean()  # more than 30\n",
    "df3 = df.tail(28)\n",
    "_,p_val = ztest(df3[\"Age\"],value=mean1)\n",
    "if p_val > 0.05 :\n",
    "    print(\"Null Hypothisis is TRUE >>ACCEPTED\")\n",
    "else:\n",
    "    print(\"Alterante Hypothesis is TRUE >>NULL HYPOTHEIS IS REJECTED\")"
   ]
  },
  {
   "cell_type": "code",
   "execution_count": 26,
   "id": "b72659b4",
   "metadata": {},
   "outputs": [
    {
     "data": {
      "text/plain": [
       "34.516666666666666"
      ]
     },
     "execution_count": 26,
     "metadata": {},
     "output_type": "execute_result"
    }
   ],
   "source": [
    "mean1"
   ]
  },
  {
   "cell_type": "code",
   "execution_count": 28,
   "id": "e67ce5da",
   "metadata": {},
   "outputs": [
    {
     "data": {
      "text/plain": [
       "36.607142857142854"
      ]
     },
     "execution_count": 28,
     "metadata": {},
     "output_type": "execute_result"
    }
   ],
   "source": [
    "df3[\"Age\"].mean()"
   ]
  },
  {
   "cell_type": "markdown",
   "id": "be4b3495",
   "metadata": {},
   "source": [
    "## Central Limit Theorm"
   ]
  },
  {
   "cell_type": "raw",
   "id": "8391ed49",
   "metadata": {},
   "source": [
    "stats that when plotting a sample distribution of means of the sample will be approximatly equal to the population mean"
   ]
  }
 ],
 "metadata": {
  "kernelspec": {
   "display_name": "Python 3 (ipykernel)",
   "language": "python",
   "name": "python3"
  },
  "language_info": {
   "codemirror_mode": {
    "name": "ipython",
    "version": 3
   },
   "file_extension": ".py",
   "mimetype": "text/x-python",
   "name": "python",
   "nbconvert_exporter": "python",
   "pygments_lexer": "ipython3",
   "version": "3.11.5"
  }
 },
 "nbformat": 4,
 "nbformat_minor": 5
}
