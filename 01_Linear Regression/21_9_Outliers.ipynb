{
 "cells": [
  {
   "cell_type": "markdown",
   "id": "65c90abd",
   "metadata": {},
   "source": [
    "## Outliers"
   ]
  },
  {
   "cell_type": "code",
   "execution_count": null,
   "id": "dfb2756c",
   "metadata": {},
   "outputs": [],
   "source": [
    "Data points which are far away from oberservations\n",
    "\n",
    "a = [1,2,3,5,8,9,100,2,5]\n",
    "\n",
    "a = [1,2,3,5,8,9,2,5]"
   ]
  },
  {
   "cell_type": "markdown",
   "id": "9650c6f1",
   "metadata": {},
   "source": [
    "\n",
    "\n",
    ".## 1. How outliers are introduced in the data"
   ]
  },
  {
   "cell_type": "code",
   "execution_count": null,
   "id": "f9b36b36",
   "metadata": {},
   "outputs": [],
   "source": [
    "1. Data Entry error\n",
    "2. Measurement Error\n",
    "3. Intentional Error  >> dummy Datasets\n",
    "4. Sampling Error     >> Mixing of data from wrong resources\n",
    "5. Natural Error "
   ]
  },
  {
   "cell_type": "markdown",
   "id": "b5d8cdef",
   "metadata": {},
   "source": [
    "## 2. Impact of Outliers"
   ]
  },
  {
   "cell_type": "code",
   "execution_count": null,
   "id": "8642c3d7",
   "metadata": {},
   "outputs": [],
   "source": [
    "1. High impact on Mean and std\n",
    "2. Impact on basic assumptions of algorithm (Normality, Homoscedasticity)\n",
    "3. Algorithm do not perform well in presence of outliers (Accuracy,MSE,Precision,Recall)\n",
    "4. Reduce the power of statstical analysis"
   ]
  },
  {
   "cell_type": "code",
   "execution_count": 1,
   "id": "a691ba4f",
   "metadata": {},
   "outputs": [
    {
     "name": "stdout",
     "output_type": "stream",
     "text": [
      "Without Outliers 4.375\n",
      "With Outliers 15.0\n"
     ]
    }
   ],
   "source": [
    "import numpy as np\n",
    "a = np.array([1,2,3,5,8,9,2,5])\n",
    "b = np.array([1,2,3,5,8,9,100,2,5])\n",
    "print(\"Without Outliers\",np.mean(a))\n",
    "print(\"With Outliers\",np.mean(b))"
   ]
  },
  {
   "cell_type": "code",
   "execution_count": 2,
   "id": "929cedc3",
   "metadata": {},
   "outputs": [
    {
     "name": "stdout",
     "output_type": "stream",
     "text": [
      "Without Outliers 2.7357585785299112\n",
      "With Outliers 30.16252273563632\n"
     ]
    }
   ],
   "source": [
    "a = np.array([1,2,3,5,8,9,2,5])\n",
    "b = np.array([1,2,3,5,8,9,100,2,5])\n",
    "print(\"Without Outliers\",np.std(a))\n",
    "print(\"With Outliers\",np.std(b))"
   ]
  },
  {
   "cell_type": "code",
   "execution_count": 4,
   "id": "b31a35f9",
   "metadata": {},
   "outputs": [
    {
     "name": "stderr",
     "output_type": "stream",
     "text": [
      "C:\\Users\\Admin\\anaconda3\\lib\\site-packages\\seaborn\\_decorators.py:36: FutureWarning: Pass the following variable as a keyword arg: x. From version 0.12, the only valid positional argument will be `data`, and passing other arguments without an explicit keyword will result in an error or misinterpretation.\n",
      "  warnings.warn(\n"
     ]
    },
    {
     "data": {
      "text/plain": [
       "<AxesSubplot:>"
      ]
     },
     "execution_count": 4,
     "metadata": {},
     "output_type": "execute_result"
    },
    {
     "data": {
      "image/png": "[encoded data removed]",
      "text/plain": [
       "<Figure size 432x288 with 1 Axes>"
      ]
     },
     "metadata": {
      "needs_background": "light"
     },
     "output_type": "display_data"
    }
   ],
   "source": [
    "import seaborn as sns\n",
    "sns.boxplot(b)"
   ]
  },
  {
   "cell_type": "markdown",
   "id": "6b01538c",
   "metadata": {},
   "source": [
    "## 3 Impact of Outliers on ML Algorithm"
   ]
  },
  {
   "cell_type": "markdown",
   "id": "024ac334",
   "metadata": {},
   "source": [
    "## 3.1 Sensitive to Outliers"
   ]
  },
  {
   "cell_type": "code",
   "execution_count": null,
   "id": "039fa0e9",
   "metadata": {},
   "outputs": [],
   "source": [
    "1. Linear regression\n",
    "2. Logistic regression\n",
    "3. K-Nearest Neighbour\n",
    "4. Support Vector Machine\n",
    "5. K-Means Clustering"
   ]
  },
  {
   "cell_type": "markdown",
   "id": "53c5b7d1",
   "metadata": {},
   "source": [
    "## 3.2 Non Sensitive to Outliers"
   ]
  },
  {
   "cell_type": "code",
   "execution_count": null,
   "id": "db4597cf",
   "metadata": {},
   "outputs": [],
   "source": [
    "1. Decision Tree\n",
    "2. Random Forest\n",
    "3. AdaBoost\n",
    "4. XGBoost\n",
    "5. Gradient Boosting\n",
    "6. Naive Bayes \n"
   ]
  },
  {
   "cell_type": "markdown",
   "id": "e7ee06be",
   "metadata": {},
   "source": [
    "## 4. Detection of Outliers"
   ]
  },
  {
   "cell_type": "code",
   "execution_count": null,
   "id": "7320b5ff",
   "metadata": {},
   "outputs": [],
   "source": [
    "1. Boxplot >>  Visualization\n",
    "2. Scatterplot  >>  Visualization\n",
    "3. Z-Score\n",
    "4. IQR Method"
   ]
  },
  {
   "cell_type": "markdown",
   "id": "2dd2ae24",
   "metadata": {},
   "source": [
    "## 5. How to handle Outliers"
   ]
  },
  {
   "cell_type": "code",
   "execution_count": null,
   "id": "0fcd50a8",
   "metadata": {},
   "outputs": [],
   "source": [
    "1. Delete Obeservation\n",
    "2. Imputation Techinque(Capping) : Used to remove Outliers\n",
    "    e.g mean, mode , median, zero, min,max,static value\n",
    "3. Transformation :  Used to reduce the impact of outliers\n",
    "    1. Normalization ( 0 to 1)\n",
    "    2. Standardization    (fixed > -3 to  +3)\n",
    "    3. Cuberoot \n",
    "    4. Squareroot\n",
    "    5. Reciprocal\n",
    "    6. Log Transformation"
   ]
  },
  {
   "cell_type": "code",
   "execution_count": 6,
   "id": "86a35814",
   "metadata": {},
   "outputs": [
    {
     "data": {
      "text/plain": [
       "array([0.        , 0.69314718, 1.09861229, 1.60943791, 2.07944154,\n",
       "       2.19722458, 0.69314718, 1.60943791, 4.60517019])"
      ]
     },
     "execution_count": 6,
     "metadata": {},
     "output_type": "execute_result"
    }
   ],
   "source": [
    "a = np.array([1,2,3,5,8,9,2,5,100])\n",
    "np.log(a)  # reduce effect of outliers"
   ]
  },
  {
   "cell_type": "markdown",
   "id": "3d6fff7d",
   "metadata": {},
   "source": [
    "## 7. How to detect"
   ]
  },
  {
   "cell_type": "code",
   "execution_count": 8,
   "id": "fd94d386",
   "metadata": {},
   "outputs": [],
   "source": [
    "import matplotlib.pyplot as plt\n",
    "import pandas as pd"
   ]
  },
  {
   "cell_type": "code",
   "execution_count": 9,
   "id": "6e8b3ff0",
   "metadata": {},
   "outputs": [
    {
     "data": {
      "text/plain": [
       "array([21, 24, 27, 22, 27, 24, 39, 38, 20, 29, 28, 33, 26, 31, 25, 20, 35,\n",
       "       28, 36, 39])"
      ]
     },
     "execution_count": 9,
     "metadata": {},
     "output_type": "execute_result"
    }
   ],
   "source": [
    "array1 = np.random.randint(20,40,size=20)\n",
    "array1"
   ]
  },
  {
   "cell_type": "code",
   "execution_count": 10,
   "id": "0caaff8b",
   "metadata": {},
   "outputs": [
    {
     "data": {
      "text/plain": [
       "<AxesSubplot:ylabel='Density'>"
      ]
     },
     "execution_count": 10,
     "metadata": {},
     "output_type": "execute_result"
    },
    {
     "data": {
      "image/png": "[encoded data removed]",
      "text/plain": [
       "<Figure size 432x288 with 1 Axes>"
      ]
     },
     "metadata": {
      "needs_background": "light"
     },
     "output_type": "display_data"
    }
   ],
   "source": [
    "sns.kdeplot(array1)"
   ]
  },
  {
   "cell_type": "code",
   "execution_count": 11,
   "id": "976bc42a",
   "metadata": {},
   "outputs": [
    {
     "name": "stdout",
     "output_type": "stream",
     "text": [
      "Data is normally distributed\n"
     ]
    }
   ],
   "source": [
    "from scipy.stats import shapiro\n",
    "_,p_val = shapiro(array1)\n",
    "if p_val >=0.05:\n",
    "    print(\"Data is normally distributed\")\n",
    "else:\n",
    "      print(\"Data is not normally distributed\")"
   ]
  },
  {
   "cell_type": "code",
   "execution_count": 12,
   "id": "f196b055",
   "metadata": {},
   "outputs": [
    {
     "data": {
      "text/plain": [
       "<AxesSubplot:ylabel='Density'>"
      ]
     },
     "execution_count": 12,
     "metadata": {},
     "output_type": "execute_result"
    },
    {
     "data": {
      "image/png": "[encoded data removed]",
      "text/plain": [
       "<Figure size 432x288 with 1 Axes>"
      ]
     },
     "metadata": {
      "needs_background": "light"
     },
     "output_type": "display_data"
    }
   ],
   "source": [
    "array2 = np.array([21, 24,100, 27, 22, 27, 24, 39, 38, 20, 29, 28, 33, 26, 31, 25, 20, 35,\n",
    "                           28, 36, 39])\n",
    "sns.kdeplot(array2)"
   ]
  },
  {
   "cell_type": "code",
   "execution_count": 13,
   "id": "e0f3a913",
   "metadata": {},
   "outputs": [
    {
     "name": "stdout",
     "output_type": "stream",
     "text": [
      "Data is not normally distributed\n"
     ]
    }
   ],
   "source": [
    "from scipy.stats import shapiro\n",
    "_,p_val = shapiro(array2)\n",
    "if p_val >=0.05:\n",
    "    print(\"Data is normally distributed\")\n",
    "else:\n",
    "      print(\"Data is not normally distributed\")"
   ]
  },
  {
   "cell_type": "code",
   "execution_count": 14,
   "id": "ebc8ec8a",
   "metadata": {},
   "outputs": [
    {
     "data": {
      "text/plain": [
       "<AxesSubplot:ylabel='Density'>"
      ]
     },
     "execution_count": 14,
     "metadata": {},
     "output_type": "execute_result"
    },
    {
     "data": {
      "image/png": "[encoded data removed]",
      "text/plain": [
       "<Figure size 432x288 with 1 Axes>"
      ]
     },
     "metadata": {
      "needs_background": "light"
     },
     "output_type": "display_data"
    }
   ],
   "source": [
    "array2 = np.array([21, 24,-100, 27, 22, 27, 24, 39, 38, 20, 29, 28, 33, 26, 31, 25, 20, 35,\n",
    "                           28, 36, 39])\n",
    "sns.kdeplot(array2)"
   ]
  },
  {
   "cell_type": "code",
   "execution_count": 17,
   "id": "1acf6420",
   "metadata": {},
   "outputs": [
    {
     "name": "stdout",
     "output_type": "stream",
     "text": [
      "4.136922981956559e-08\n",
      "Data is not normally distributed\n"
     ]
    }
   ],
   "source": [
    "from scipy.stats import shapiro\n",
    "_,p_val = shapiro(array2)\n",
    "print(p_val)\n",
    "if p_val >=0.05:\n",
    "    print(\"Data is normally distributed\")\n",
    "else:\n",
    "      print(\"Data is not normally distributed\")"
   ]
  },
  {
   "cell_type": "markdown",
   "id": "b4f91a6a",
   "metadata": {},
   "source": [
    "## 1. z_score"
   ]
  },
  {
   "cell_type": "code",
   "execution_count": null,
   "id": "3477508d",
   "metadata": {},
   "outputs": [],
   "source": [
    "\n",
    "std >> How far away is our datapoint from mean\n",
    "z_score  =  (X - Xmean) /std\n",
    "     It tells how many std deviation data points away from its mean\n",
    "    \n",
    "    where \n",
    "    X >> Actual data points\n",
    "    Xmean >> Mean Value\n",
    "    std > Standard deviation\n",
    "    \n",
    "Outliers Treatement:\n",
    "    1. Trimming (Drop)\n",
    "    2. Imputation (Capping)"
   ]
  },
  {
   "cell_type": "code",
   "execution_count": 19,
   "id": "f17e42e8",
   "metadata": {},
   "outputs": [
    {
     "data": {
      "text/plain": [
       "array([ 21,  24, 100,  27,  22,  27,  24,  39,  38,  20,  29,  28,  33,\n",
       "        26,  31,  25,  20,  35,  28,  36,  39])"
      ]
     },
     "execution_count": 19,
     "metadata": {},
     "output_type": "execute_result"
    }
   ],
   "source": [
    "array2 = np.array([21, 24,100, 27, 22, 27, 24, 39, 38, 20, 29, 28, 33, 26, 31, 25, 20, 35,\n",
    "                           28, 36, 39])\n",
    "array2"
   ]
  },
  {
   "cell_type": "code",
   "execution_count": null,
   "id": "bd16e71d",
   "metadata": {},
   "outputs": [],
   "source": []
  },
  {
   "cell_type": "code",
   "execution_count": 20,
   "id": "eb670bb1",
   "metadata": {},
   "outputs": [
    {
     "name": "stdout",
     "output_type": "stream",
     "text": [
      "Mean 32.0\n",
      "Std 16.327015298927986\n"
     ]
    }
   ],
   "source": [
    "X_mean = np.mean(array2)\n",
    "print(\"Mean\",X_mean)\n",
    "std = np.std(array2)\n",
    "print(\"Std\",std)"
   ]
  },
  {
   "cell_type": "code",
   "execution_count": 22,
   "id": "486d40b4",
   "metadata": {},
   "outputs": [
    {
     "name": "stdout",
     "output_type": "stream",
     "text": [
      "-0.673729998937543\n"
     ]
    }
   ],
   "source": [
    "# calculate z_score for 21\n",
    "z_Score = (21 - X_mean)/std\n",
    "print(z_Score)"
   ]
  },
  {
   "cell_type": "code",
   "execution_count": 24,
   "id": "c4976df1",
   "metadata": {},
   "outputs": [
    {
     "name": "stderr",
     "output_type": "stream",
     "text": [
      "C:\\Users\\Admin\\anaconda3\\lib\\site-packages\\seaborn\\_decorators.py:36: FutureWarning: Pass the following variable as a keyword arg: x. From version 0.12, the only valid positional argument will be `data`, and passing other arguments without an explicit keyword will result in an error or misinterpretation.\n",
      "  warnings.warn(\n"
     ]
    },
    {
     "data": {
      "text/plain": [
       "<AxesSubplot:>"
      ]
     },
     "execution_count": 24,
     "metadata": {},
     "output_type": "execute_result"
    },
    {
     "data": {
      "image/png": "[encoded data removed]",
      "text/plain": [
       "<Figure size 432x288 with 1 Axes>"
      ]
     },
     "metadata": {
      "needs_background": "light"
     },
     "output_type": "display_data"
    }
   ],
   "source": [
    "array2 = np.array([21, 24,100, 27, 22, 27, 24, 39, 38, 20, 29, 28, 33, 26, 31, 25, 20, 35,\n",
    "                           28, 36, 39])\n",
    "sns.boxplot(array2)"
   ]
  },
  {
   "cell_type": "code",
   "execution_count": 23,
   "id": "fbcb4786",
   "metadata": {},
   "outputs": [
    {
     "name": "stdout",
     "output_type": "stream",
     "text": [
      "Mean 32.0\n",
      "Std 16.327015298927986\n",
      "z_score -0.673729998937543\n",
      "z_score -0.48998545377275854\n",
      "z_score 4.164876357068447\n",
      "z_score -0.3062409086079741\n",
      "z_score -0.6124818172159482\n",
      "z_score -0.3062409086079741\n",
      "z_score -0.48998545377275854\n",
      "z_score 0.42873727205116374\n",
      "z_score 0.3674890903295689\n",
      "z_score -0.7349781806591378\n",
      "z_score -0.18374454516478445\n",
      "z_score -0.24499272688637927\n",
      "z_score 0.06124818172159482\n",
      "z_score -0.3674890903295689\n",
      "z_score -0.06124818172159482\n",
      "z_score -0.42873727205116374\n",
      "z_score -0.7349781806591378\n",
      "z_score 0.18374454516478445\n",
      "z_score -0.24499272688637927\n",
      "z_score 0.24499272688637927\n",
      "z_score 0.42873727205116374\n"
     ]
    }
   ],
   "source": [
    "array2 = np.array([21, 24,100, 27, 22, 27, 24, 39, 38, 20, 29, 28, 33, 26, 31, 25, 20, 35,\n",
    "                           28, 36, 39])\n",
    "X_mean = np.mean(array2)\n",
    "print(\"Mean\",X_mean)\n",
    "std = np.std(array2)\n",
    "print(\"Std\",std)\n",
    "\n",
    "outliers_list = []\n",
    "for x_val in array2:\n",
    "    z_score = (x_val - X_mean)/std\n",
    "    print(\"z_score\",z_score)\n",
    "    "
   ]
  },
  {
   "cell_type": "code",
   "execution_count": 25,
   "id": "b562ac1a",
   "metadata": {},
   "outputs": [
    {
     "name": "stdout",
     "output_type": "stream",
     "text": [
      "Mean 32.0\n",
      "Std 16.327015298927986\n"
     ]
    },
    {
     "data": {
      "text/plain": [
       "[100]"
      ]
     },
     "execution_count": 25,
     "metadata": {},
     "output_type": "execute_result"
    }
   ],
   "source": [
    "array2 = np.array([21, 24,100, 27, 22, 27, 24, 39, 38, 20, 29, 28, 33, 26, 31, 25, 20, 35,\n",
    "                           28, 36, 39])\n",
    "X_mean = np.mean(array2)\n",
    "print(\"Mean\",X_mean)\n",
    "std = np.std(array2)\n",
    "print(\"Std\",std)\n",
    "\n",
    "threshold = 3\n",
    "outliers_list = []\n",
    "for x_val in array2:\n",
    "    z_score = (x_val - X_mean)/std\n",
    "    z_score = np.abs(z_score)\n",
    "    z_score = np.around(z_score,2)\n",
    "    if z_score >= threshold:\n",
    "        outliers_list.append(x_val)\n",
    "outliers_list"
   ]
  },
  {
   "cell_type": "code",
   "execution_count": 28,
   "id": "3cccecbb",
   "metadata": {},
   "outputs": [
    {
     "name": "stderr",
     "output_type": "stream",
     "text": [
      "C:\\Users\\Admin\\anaconda3\\lib\\site-packages\\seaborn\\_decorators.py:36: FutureWarning: Pass the following variable as a keyword arg: x. From version 0.12, the only valid positional argument will be `data`, and passing other arguments without an explicit keyword will result in an error or misinterpretation.\n",
      "  warnings.warn(\n"
     ]
    },
    {
     "data": {
      "text/plain": [
       "<AxesSubplot:>"
      ]
     },
     "execution_count": 28,
     "metadata": {},
     "output_type": "execute_result"
    },
    {
     "data": {
      "image/png": "[encoded data removed]",
      "text/plain": [
       "<Figure size 432x288 with 1 Axes>"
      ]
     },
     "metadata": {
      "needs_background": "light"
     },
     "output_type": "display_data"
    }
   ],
   "source": [
    "array2 = np.array([21, 24,100, 27, 22, 27, 24, 39, 38,300, 20, 29, 28, 33, 26, 31, 25, 20, 400,35,\n",
    "                           28, 36, 39])\n",
    "sns.boxplot(array2)"
   ]
  },
  {
   "cell_type": "code",
   "execution_count": 30,
   "id": "9db42f78",
   "metadata": {},
   "outputs": [
    {
     "name": "stdout",
     "output_type": "stream",
     "text": [
      "Mean 59.65217391304348\n",
      "Std 92.13865199212694\n",
      "0.42\n",
      "0.39\n",
      "0.44\n",
      "0.35\n",
      "0.41\n",
      "0.35\n",
      "0.39\n",
      "0.22\n",
      "0.23\n",
      "2.61\n",
      "0.43\n",
      "0.33\n",
      "0.34\n",
      "0.29\n",
      "0.37\n",
      "0.31\n",
      "0.38\n",
      "0.43\n",
      "3.69\n",
      "0.27\n",
      "0.34\n",
      "0.26\n",
      "0.22\n"
     ]
    },
    {
     "data": {
      "text/plain": [
       "[300, 400]"
      ]
     },
     "execution_count": 30,
     "metadata": {},
     "output_type": "execute_result"
    }
   ],
   "source": [
    "array2 = np.array([21, 24,100, 27, 22, 27, 24, 39, 38,300, 20, 29, 28, 33, 26, 31, 25, 20, 400,35,\n",
    "                           28, 36, 39])\n",
    "X_mean = np.mean(array2)\n",
    "print(\"Mean\",X_mean)\n",
    "std = np.std(array2)\n",
    "print(\"Std\",std)\n",
    "\n",
    "threshold = 2\n",
    "outliers_list = []\n",
    "for x_val in array2:\n",
    "    z_score = (x_val - X_mean)/std\n",
    "    z_score = np.abs(z_score)\n",
    "    z_score = np.around(z_score,2)\n",
    "    print(z_score)\n",
    "    if z_score >= threshold:\n",
    "        outliers_list.append(x_val)\n",
    "outliers_list"
   ]
  },
  {
   "cell_type": "code",
   "execution_count": 34,
   "id": "b92ee87f",
   "metadata": {},
   "outputs": [
    {
     "data": {
      "text/plain": [
       "array([400])"
      ]
     },
     "execution_count": 34,
     "metadata": {},
     "output_type": "execute_result"
    }
   ],
   "source": [
    "from scipy import stats\n",
    "array2 = np.array([21, 24,100, 27, 22, 27, 24, 39, 38,300, 20, 29, 28, 33, 26, 31, 25, 20, 400,35,\n",
    "                           28, 36, 39])\n",
    "z_score = np.abs(stats.zscore(array2))\n",
    "threshold =3\n",
    "outlier = np.where(z_score >= threshold)\n",
    "array2[outlier]"
   ]
  },
  {
   "cell_type": "markdown",
   "id": "6a802b26",
   "metadata": {},
   "source": [
    "## 2. IQR"
   ]
  },
  {
   "cell_type": "code",
   "execution_count": null,
   "id": "9689997b",
   "metadata": {},
   "outputs": [],
   "source": [
    "IQR >> Inter Quartile Range\n",
    "In IQR ANY DATA POINTS ARE LESS THAN LOWER TAIL OR MORE THAN UPPER TAIL THEN IT TREATES AS OUTLIERS\n",
    "\n",
    "Q1 >1ST QUARTILE >> 25%\n",
    "Q2 > 2ND QUARTILE >50%\n",
    "Q3 > 3RD QUARTILE > 75%\n",
    "IQR = Q3 - Q1\n",
    "\n",
    "Uppertail = Q3 + 1.5 *IQR\n",
    "Lowertail = Q1 - 1.5 *IQR"
   ]
  },
  {
   "cell_type": "code",
   "execution_count": 35,
   "id": "e93b245f",
   "metadata": {
    "scrolled": true
   },
   "outputs": [
    {
     "data": {
      "text/html": [
       "<div>\n",
       "<style scoped>\n",
       "    .dataframe tbody tr th:only-of-type {\n",
       "        vertical-align: middle;\n",
       "    }\n",
       "\n",
       "    .dataframe tbody tr th {\n",
       "        vertical-align: top;\n",
       "    }\n",
       "\n",
       "    .dataframe thead th {\n",
       "        text-align: right;\n",
       "    }\n",
       "</style>\n",
       "<table border=\"1\" class=\"dataframe\">\n",
       "  <thead>\n",
       "    <tr style=\"text-align: right;\">\n",
       "      <th></th>\n",
       "      <th>Pregnancies</th>\n",
       "      <th>Glucose</th>\n",
       "      <th>BloodPressure</th>\n",
       "      <th>SkinThickness</th>\n",
       "      <th>Insulin</th>\n",
       "      <th>BMI</th>\n",
       "      <th>DiabetesPedigreeFunction</th>\n",
       "      <th>Age</th>\n",
       "      <th>Outcome</th>\n",
       "    </tr>\n",
       "  </thead>\n",
       "  <tbody>\n",
       "    <tr>\n",
       "      <th>count</th>\n",
       "      <td>768.000000</td>\n",
       "      <td>768.000000</td>\n",
       "      <td>768.000000</td>\n",
       "      <td>768.000000</td>\n",
       "      <td>768.000000</td>\n",
       "      <td>768.000000</td>\n",
       "      <td>768.000000</td>\n",
       "      <td>768.000000</td>\n",
       "      <td>768.000000</td>\n",
       "    </tr>\n",
       "    <tr>\n",
       "      <th>mean</th>\n",
       "      <td>3.845052</td>\n",
       "      <td>120.894531</td>\n",
       "      <td>69.105469</td>\n",
       "      <td>20.536458</td>\n",
       "      <td>79.799479</td>\n",
       "      <td>31.992578</td>\n",
       "      <td>0.471876</td>\n",
       "      <td>33.240885</td>\n",
       "      <td>0.348958</td>\n",
       "    </tr>\n",
       "    <tr>\n",
       "      <th>std</th>\n",
       "      <td>3.369578</td>\n",
       "      <td>31.972618</td>\n",
       "      <td>19.355807</td>\n",
       "      <td>15.952218</td>\n",
       "      <td>115.244002</td>\n",
       "      <td>7.884160</td>\n",
       "      <td>0.331329</td>\n",
       "      <td>11.760232</td>\n",
       "      <td>0.476951</td>\n",
       "    </tr>\n",
       "    <tr>\n",
       "      <th>min</th>\n",
       "      <td>0.000000</td>\n",
       "      <td>0.000000</td>\n",
       "      <td>0.000000</td>\n",
       "      <td>0.000000</td>\n",
       "      <td>0.000000</td>\n",
       "      <td>0.000000</td>\n",
       "      <td>0.078000</td>\n",
       "      <td>21.000000</td>\n",
       "      <td>0.000000</td>\n",
       "    </tr>\n",
       "    <tr>\n",
       "      <th>25%</th>\n",
       "      <td>1.000000</td>\n",
       "      <td>99.000000</td>\n",
       "      <td>62.000000</td>\n",
       "      <td>0.000000</td>\n",
       "      <td>0.000000</td>\n",
       "      <td>27.300000</td>\n",
       "      <td>0.243750</td>\n",
       "      <td>24.000000</td>\n",
       "      <td>0.000000</td>\n",
       "    </tr>\n",
       "    <tr>\n",
       "      <th>50%</th>\n",
       "      <td>3.000000</td>\n",
       "      <td>117.000000</td>\n",
       "      <td>72.000000</td>\n",
       "      <td>23.000000</td>\n",
       "      <td>30.500000</td>\n",
       "      <td>32.000000</td>\n",
       "      <td>0.372500</td>\n",
       "      <td>29.000000</td>\n",
       "      <td>0.000000</td>\n",
       "    </tr>\n",
       "    <tr>\n",
       "      <th>75%</th>\n",
       "      <td>6.000000</td>\n",
       "      <td>140.250000</td>\n",
       "      <td>80.000000</td>\n",
       "      <td>32.000000</td>\n",
       "      <td>127.250000</td>\n",
       "      <td>36.600000</td>\n",
       "      <td>0.626250</td>\n",
       "      <td>41.000000</td>\n",
       "      <td>1.000000</td>\n",
       "    </tr>\n",
       "    <tr>\n",
       "      <th>max</th>\n",
       "      <td>17.000000</td>\n",
       "      <td>199.000000</td>\n",
       "      <td>122.000000</td>\n",
       "      <td>99.000000</td>\n",
       "      <td>846.000000</td>\n",
       "      <td>67.100000</td>\n",
       "      <td>2.420000</td>\n",
       "      <td>81.000000</td>\n",
       "      <td>1.000000</td>\n",
       "    </tr>\n",
       "  </tbody>\n",
       "</table>\n",
       "</div>"
      ],
      "text/plain": [
       "       Pregnancies     Glucose  BloodPressure  SkinThickness     Insulin  \\\n",
       "count   768.000000  768.000000     768.000000     768.000000  768.000000   \n",
       "mean      3.845052  120.894531      69.105469      20.536458   79.799479   \n",
       "std       3.369578   31.972618      19.355807      15.952218  115.244002   \n",
       "min       0.000000    0.000000       0.000000       0.000000    0.000000   \n",
       "25%       1.000000   99.000000      62.000000       0.000000    0.000000   \n",
       "50%       3.000000  117.000000      72.000000      23.000000   30.500000   \n",
       "75%       6.000000  140.250000      80.000000      32.000000  127.250000   \n",
       "max      17.000000  199.000000     122.000000      99.000000  846.000000   \n",
       "\n",
       "              BMI  DiabetesPedigreeFunction         Age     Outcome  \n",
       "count  768.000000                768.000000  768.000000  768.000000  \n",
       "mean    31.992578                  0.471876   33.240885    0.348958  \n",
       "std      7.884160                  0.331329   11.760232    0.476951  \n",
       "min      0.000000                  0.078000   21.000000    0.000000  \n",
       "25%     27.300000                  0.243750   24.000000    0.000000  \n",
       "50%     32.000000                  0.372500   29.000000    0.000000  \n",
       "75%     36.600000                  0.626250   41.000000    1.000000  \n",
       "max     67.100000                  2.420000   81.000000    1.000000  "
      ]
     },
     "execution_count": 35,
     "metadata": {},
     "output_type": "execute_result"
    }
   ],
   "source": [
    "df = pd.read_csv(\"diabetes.csv\")\n",
    "df.describe()"
   ]
  },
  {
   "cell_type": "code",
   "execution_count": 40,
   "id": "59712e70",
   "metadata": {},
   "outputs": [
    {
     "name": "stderr",
     "output_type": "stream",
     "text": [
      "C:\\Users\\Admin\\anaconda3\\lib\\site-packages\\seaborn\\_decorators.py:36: FutureWarning: Pass the following variable as a keyword arg: x. From version 0.12, the only valid positional argument will be `data`, and passing other arguments without an explicit keyword will result in an error or misinterpretation.\n",
      "  warnings.warn(\n"
     ]
    },
    {
     "data": {
      "text/plain": [
       "<AxesSubplot:>"
      ]
     },
     "execution_count": 40,
     "metadata": {},
     "output_type": "execute_result"
    },
    {
     "data": {
      "image/png": "[encoded data removed]",
      "text/plain": [
       "<Figure size 432x288 with 1 Axes>"
      ]
     },
     "metadata": {
      "needs_background": "light"
     },
     "output_type": "display_data"
    }
   ],
   "source": [
    "array2 = np.array([21, 24,100, 27, 22, 27, 24, 39, 38,300, 20, 29, 28, 33, 26, 31, 25, 20, 400,35,\n",
    "                           28, 36, 39])\n",
    "sns.boxplot(array2)"
   ]
  },
  {
   "cell_type": "code",
   "execution_count": 38,
   "id": "1f37d846",
   "metadata": {},
   "outputs": [
    {
     "data": {
      "text/plain": [
       "array([100, 300, 400])"
      ]
     },
     "execution_count": 38,
     "metadata": {},
     "output_type": "execute_result"
    }
   ],
   "source": [
    "array2 = np.array([21, 24,100, 27, 22, 27, 24, 39, 38,300, 20, 29, 28, 33, 26, 31, 25, 20, 400,35,\n",
    "                           28, 36, 39])\n",
    "\n",
    "q1 = np.quantile(array2,0.25)\n",
    "q2 = np.quantile(array2,0.50)\n",
    "q3 = np.quantile(array2,0.75)\n",
    "IQR = q3 -q1\n",
    "upper_tail = q3 + 1.5*IQR\n",
    "lower_tail = q1 - 1.5*IQR\n",
    "array2[np.where(array2 > upper_tail)]"
   ]
  },
  {
   "cell_type": "markdown",
   "id": "310ce93c",
   "metadata": {},
   "source": [
    "### 3. boxplot"
   ]
  },
  {
   "cell_type": "code",
   "execution_count": 41,
   "id": "fc316425",
   "metadata": {},
   "outputs": [
    {
     "name": "stderr",
     "output_type": "stream",
     "text": [
      "C:\\Users\\Admin\\anaconda3\\lib\\site-packages\\seaborn\\_decorators.py:36: FutureWarning: Pass the following variable as a keyword arg: x. From version 0.12, the only valid positional argument will be `data`, and passing other arguments without an explicit keyword will result in an error or misinterpretation.\n",
      "  warnings.warn(\n"
     ]
    },
    {
     "data": {
      "text/plain": [
       "<AxesSubplot:>"
      ]
     },
     "execution_count": 41,
     "metadata": {},
     "output_type": "execute_result"
    },
    {
     "data": {
      "image/png": "[encoded data removed]",
      "text/plain": [
       "<Figure size 432x288 with 1 Axes>"
      ]
     },
     "metadata": {
      "needs_background": "light"
     },
     "output_type": "display_data"
    }
   ],
   "source": [
    "array2 = np.array([21, 24,100, 27, 22, 27, 24, 39, 38,300, 20, 29, 28, 33, 26, 31, 25, 20, 400,35,\n",
    "                           28, 36, 39])\n",
    "sns.boxplot(array2)"
   ]
  },
  {
   "cell_type": "code",
   "execution_count": 42,
   "id": "10f61562",
   "metadata": {},
   "outputs": [
    {
     "data": {
      "text/html": [
       "<div>\n",
       "<style scoped>\n",
       "    .dataframe tbody tr th:only-of-type {\n",
       "        vertical-align: middle;\n",
       "    }\n",
       "\n",
       "    .dataframe tbody tr th {\n",
       "        vertical-align: top;\n",
       "    }\n",
       "\n",
       "    .dataframe thead th {\n",
       "        text-align: right;\n",
       "    }\n",
       "</style>\n",
       "<table border=\"1\" class=\"dataframe\">\n",
       "  <thead>\n",
       "    <tr style=\"text-align: right;\">\n",
       "      <th></th>\n",
       "      <th>Pregnancies</th>\n",
       "      <th>Glucose</th>\n",
       "      <th>BloodPressure</th>\n",
       "      <th>SkinThickness</th>\n",
       "      <th>Insulin</th>\n",
       "      <th>BMI</th>\n",
       "      <th>DiabetesPedigreeFunction</th>\n",
       "      <th>Age</th>\n",
       "      <th>Outcome</th>\n",
       "    </tr>\n",
       "  </thead>\n",
       "  <tbody>\n",
       "    <tr>\n",
       "      <th>count</th>\n",
       "      <td>768.000000</td>\n",
       "      <td>768.000000</td>\n",
       "      <td>768.000000</td>\n",
       "      <td>768.000000</td>\n",
       "      <td>768.000000</td>\n",
       "      <td>768.000000</td>\n",
       "      <td>768.000000</td>\n",
       "      <td>768.000000</td>\n",
       "      <td>768.000000</td>\n",
       "    </tr>\n",
       "    <tr>\n",
       "      <th>mean</th>\n",
       "      <td>3.845052</td>\n",
       "      <td>120.894531</td>\n",
       "      <td>69.105469</td>\n",
       "      <td>20.536458</td>\n",
       "      <td>79.799479</td>\n",
       "      <td>31.992578</td>\n",
       "      <td>0.471876</td>\n",
       "      <td>33.240885</td>\n",
       "      <td>0.348958</td>\n",
       "    </tr>\n",
       "    <tr>\n",
       "      <th>std</th>\n",
       "      <td>3.369578</td>\n",
       "      <td>31.972618</td>\n",
       "      <td>19.355807</td>\n",
       "      <td>15.952218</td>\n",
       "      <td>115.244002</td>\n",
       "      <td>7.884160</td>\n",
       "      <td>0.331329</td>\n",
       "      <td>11.760232</td>\n",
       "      <td>0.476951</td>\n",
       "    </tr>\n",
       "    <tr>\n",
       "      <th>min</th>\n",
       "      <td>0.000000</td>\n",
       "      <td>0.000000</td>\n",
       "      <td>0.000000</td>\n",
       "      <td>0.000000</td>\n",
       "      <td>0.000000</td>\n",
       "      <td>0.000000</td>\n",
       "      <td>0.078000</td>\n",
       "      <td>21.000000</td>\n",
       "      <td>0.000000</td>\n",
       "    </tr>\n",
       "    <tr>\n",
       "      <th>25%</th>\n",
       "      <td>1.000000</td>\n",
       "      <td>99.000000</td>\n",
       "      <td>62.000000</td>\n",
       "      <td>0.000000</td>\n",
       "      <td>0.000000</td>\n",
       "      <td>27.300000</td>\n",
       "      <td>0.243750</td>\n",
       "      <td>24.000000</td>\n",
       "      <td>0.000000</td>\n",
       "    </tr>\n",
       "    <tr>\n",
       "      <th>50%</th>\n",
       "      <td>3.000000</td>\n",
       "      <td>117.000000</td>\n",
       "      <td>72.000000</td>\n",
       "      <td>23.000000</td>\n",
       "      <td>30.500000</td>\n",
       "      <td>32.000000</td>\n",
       "      <td>0.372500</td>\n",
       "      <td>29.000000</td>\n",
       "      <td>0.000000</td>\n",
       "    </tr>\n",
       "    <tr>\n",
       "      <th>75%</th>\n",
       "      <td>6.000000</td>\n",
       "      <td>140.250000</td>\n",
       "      <td>80.000000</td>\n",
       "      <td>32.000000</td>\n",
       "      <td>127.250000</td>\n",
       "      <td>36.600000</td>\n",
       "      <td>0.626250</td>\n",
       "      <td>41.000000</td>\n",
       "      <td>1.000000</td>\n",
       "    </tr>\n",
       "    <tr>\n",
       "      <th>max</th>\n",
       "      <td>17.000000</td>\n",
       "      <td>199.000000</td>\n",
       "      <td>122.000000</td>\n",
       "      <td>99.000000</td>\n",
       "      <td>846.000000</td>\n",
       "      <td>67.100000</td>\n",
       "      <td>2.420000</td>\n",
       "      <td>81.000000</td>\n",
       "      <td>1.000000</td>\n",
       "    </tr>\n",
       "  </tbody>\n",
       "</table>\n",
       "</div>"
      ],
      "text/plain": [
       "       Pregnancies     Glucose  BloodPressure  SkinThickness     Insulin  \\\n",
       "count   768.000000  768.000000     768.000000     768.000000  768.000000   \n",
       "mean      3.845052  120.894531      69.105469      20.536458   79.799479   \n",
       "std       3.369578   31.972618      19.355807      15.952218  115.244002   \n",
       "min       0.000000    0.000000       0.000000       0.000000    0.000000   \n",
       "25%       1.000000   99.000000      62.000000       0.000000    0.000000   \n",
       "50%       3.000000  117.000000      72.000000      23.000000   30.500000   \n",
       "75%       6.000000  140.250000      80.000000      32.000000  127.250000   \n",
       "max      17.000000  199.000000     122.000000      99.000000  846.000000   \n",
       "\n",
       "              BMI  DiabetesPedigreeFunction         Age     Outcome  \n",
       "count  768.000000                768.000000  768.000000  768.000000  \n",
       "mean    31.992578                  0.471876   33.240885    0.348958  \n",
       "std      7.884160                  0.331329   11.760232    0.476951  \n",
       "min      0.000000                  0.078000   21.000000    0.000000  \n",
       "25%     27.300000                  0.243750   24.000000    0.000000  \n",
       "50%     32.000000                  0.372500   29.000000    0.000000  \n",
       "75%     36.600000                  0.626250   41.000000    1.000000  \n",
       "max     67.100000                  2.420000   81.000000    1.000000  "
      ]
     },
     "execution_count": 42,
     "metadata": {},
     "output_type": "execute_result"
    }
   ],
   "source": [
    "df = pd.read_csv(\"diabetes.csv\")\n",
    "df.describe()"
   ]
  },
  {
   "cell_type": "code",
   "execution_count": 45,
   "id": "da76a411",
   "metadata": {},
   "outputs": [
    {
     "name": "stderr",
     "output_type": "stream",
     "text": [
      "C:\\Users\\Admin\\anaconda3\\lib\\site-packages\\seaborn\\_decorators.py:36: FutureWarning: Pass the following variable as a keyword arg: x. From version 0.12, the only valid positional argument will be `data`, and passing other arguments without an explicit keyword will result in an error or misinterpretation.\n",
      "  warnings.warn(\n"
     ]
    },
    {
     "data": {
      "text/plain": [
       "<AxesSubplot:xlabel='Glucose'>"
      ]
     },
     "execution_count": 45,
     "metadata": {},
     "output_type": "execute_result"
    },
    {
     "data": {
      "image/png": "[encoded data removed]",
      "text/plain": [
       "<Figure size 432x288 with 1 Axes>"
      ]
     },
     "metadata": {
      "needs_background": "light"
     },
     "output_type": "display_data"
    }
   ],
   "source": [
    "sns.boxplot(df[\"Glucose\"])"
   ]
  },
  {
   "cell_type": "code",
   "execution_count": 47,
   "id": "8a77c4eb",
   "metadata": {},
   "outputs": [
    {
     "name": "stdout",
     "output_type": "stream",
     "text": [
      "37.125\n"
     ]
    },
    {
     "data": {
      "text/html": [
       "<div>\n",
       "<style scoped>\n",
       "    .dataframe tbody tr th:only-of-type {\n",
       "        vertical-align: middle;\n",
       "    }\n",
       "\n",
       "    .dataframe tbody tr th {\n",
       "        vertical-align: top;\n",
       "    }\n",
       "\n",
       "    .dataframe thead th {\n",
       "        text-align: right;\n",
       "    }\n",
       "</style>\n",
       "<table border=\"1\" class=\"dataframe\">\n",
       "  <thead>\n",
       "    <tr style=\"text-align: right;\">\n",
       "      <th></th>\n",
       "      <th>Pregnancies</th>\n",
       "      <th>Glucose</th>\n",
       "      <th>BloodPressure</th>\n",
       "      <th>SkinThickness</th>\n",
       "      <th>Insulin</th>\n",
       "      <th>BMI</th>\n",
       "      <th>DiabetesPedigreeFunction</th>\n",
       "      <th>Age</th>\n",
       "      <th>Outcome</th>\n",
       "    </tr>\n",
       "  </thead>\n",
       "  <tbody>\n",
       "    <tr>\n",
       "      <th>75</th>\n",
       "      <td>1</td>\n",
       "      <td>0</td>\n",
       "      <td>48</td>\n",
       "      <td>20</td>\n",
       "      <td>0</td>\n",
       "      <td>24.7</td>\n",
       "      <td>0.140</td>\n",
       "      <td>22</td>\n",
       "      <td>0</td>\n",
       "    </tr>\n",
       "    <tr>\n",
       "      <th>182</th>\n",
       "      <td>1</td>\n",
       "      <td>0</td>\n",
       "      <td>74</td>\n",
       "      <td>20</td>\n",
       "      <td>23</td>\n",
       "      <td>27.7</td>\n",
       "      <td>0.299</td>\n",
       "      <td>21</td>\n",
       "      <td>0</td>\n",
       "    </tr>\n",
       "    <tr>\n",
       "      <th>342</th>\n",
       "      <td>1</td>\n",
       "      <td>0</td>\n",
       "      <td>68</td>\n",
       "      <td>35</td>\n",
       "      <td>0</td>\n",
       "      <td>32.0</td>\n",
       "      <td>0.389</td>\n",
       "      <td>22</td>\n",
       "      <td>0</td>\n",
       "    </tr>\n",
       "    <tr>\n",
       "      <th>349</th>\n",
       "      <td>5</td>\n",
       "      <td>0</td>\n",
       "      <td>80</td>\n",
       "      <td>32</td>\n",
       "      <td>0</td>\n",
       "      <td>41.0</td>\n",
       "      <td>0.346</td>\n",
       "      <td>37</td>\n",
       "      <td>1</td>\n",
       "    </tr>\n",
       "    <tr>\n",
       "      <th>502</th>\n",
       "      <td>6</td>\n",
       "      <td>0</td>\n",
       "      <td>68</td>\n",
       "      <td>41</td>\n",
       "      <td>0</td>\n",
       "      <td>39.0</td>\n",
       "      <td>0.727</td>\n",
       "      <td>41</td>\n",
       "      <td>1</td>\n",
       "    </tr>\n",
       "  </tbody>\n",
       "</table>\n",
       "</div>"
      ],
      "text/plain": [
       "     Pregnancies  Glucose  BloodPressure  SkinThickness  Insulin   BMI  \\\n",
       "75             1        0             48             20        0  24.7   \n",
       "182            1        0             74             20       23  27.7   \n",
       "342            1        0             68             35        0  32.0   \n",
       "349            5        0             80             32        0  41.0   \n",
       "502            6        0             68             41        0  39.0   \n",
       "\n",
       "     DiabetesPedigreeFunction  Age  Outcome  \n",
       "75                      0.140   22        0  \n",
       "182                     0.299   21        0  \n",
       "342                     0.389   22        0  \n",
       "349                     0.346   37        1  \n",
       "502                     0.727   41        1  "
      ]
     },
     "execution_count": 47,
     "metadata": {},
     "output_type": "execute_result"
    }
   ],
   "source": [
    "q1 = df[\"Glucose\"].quantile(0.25)\n",
    "q2 = df[\"Glucose\"].quantile(0.50)\n",
    "q3 = df[\"Glucose\"].quantile(0.75)\n",
    "IQR = q3 - q1\n",
    "uppertail = q3 + 1.5*IQR\n",
    "lowertail = q1 - 1.5*IQR\n",
    "print(lowertail)\n",
    "df.loc[(df[\"Glucose\"] > uppertail) | (df[\"Glucose\"] <lowertail)]  # detection"
   ]
  },
  {
   "cell_type": "code",
   "execution_count": 48,
   "id": "46b70150",
   "metadata": {},
   "outputs": [
    {
     "data": {
      "text/plain": [
       "(768, 9)"
      ]
     },
     "execution_count": 48,
     "metadata": {},
     "output_type": "execute_result"
    }
   ],
   "source": [
    "df.shape"
   ]
  },
  {
   "cell_type": "code",
   "execution_count": 50,
   "id": "4098e754",
   "metadata": {},
   "outputs": [
    {
     "data": {
      "text/plain": [
       "(763, 9)"
      ]
     },
     "execution_count": 50,
     "metadata": {},
     "output_type": "execute_result"
    }
   ],
   "source": [
    "df.loc[(df[\"Glucose\"] <= uppertail) & (df[\"Glucose\"] >lowertail)].shape  # drop"
   ]
  },
  {
   "cell_type": "code",
   "execution_count": 51,
   "id": "c1af71a0",
   "metadata": {},
   "outputs": [
    {
     "data": {
      "text/plain": [
       "<AxesSubplot:>"
      ]
     },
     "execution_count": 51,
     "metadata": {},
     "output_type": "execute_result"
    },
    {
     "data": {
      "image/png": "[encoded data removed]",
      "text/plain": [
       "<Figure size 432x288 with 1 Axes>"
      ]
     },
     "metadata": {
      "needs_background": "light"
     },
     "output_type": "display_data"
    }
   ],
   "source": [
    "df[[\"Glucose\"]].boxplot()"
   ]
  },
  {
   "cell_type": "code",
   "execution_count": 52,
   "id": "aeb45d3e",
   "metadata": {},
   "outputs": [
    {
     "data": {
      "text/plain": [
       "<AxesSubplot:>"
      ]
     },
     "execution_count": 52,
     "metadata": {},
     "output_type": "execute_result"
    },
    {
     "data": {
      "image/png": "[encoded data removed]",
      "text/plain": [
       "<Figure size 432x288 with 1 Axes>"
      ]
     },
     "metadata": {
      "needs_background": "light"
     },
     "output_type": "display_data"
    }
   ],
   "source": [
    "df[[\"Glucose\",\"BloodPressure\"]].boxplot()"
   ]
  },
  {
   "cell_type": "markdown",
   "id": "b2b32bc1",
   "metadata": {},
   "source": [
    "## How to Handle Outliers"
   ]
  },
  {
   "cell_type": "code",
   "execution_count": null,
   "id": "41a1bd6e",
   "metadata": {},
   "outputs": [],
   "source": [
    "1. Delete\n",
    "2. Imputation( Capping)\n",
    "3. Transformation"
   ]
  }
 ],
 "metadata": {
  "kernelspec": {
   "display_name": "Python 3",
   "language": "python",
   "name": "python3"
  },
  "language_info": {
   "codemirror_mode": {
    "name": "ipython",
    "version": 3
   },
   "file_extension": ".py",
   "mimetype": "text/x-python",
   "name": "python",
   "nbconvert_exporter": "python",
   "pygments_lexer": "ipython3",
   "version": "3.8.8"
  }
 },
 "nbformat": 4,
 "nbformat_minor": 5
}
