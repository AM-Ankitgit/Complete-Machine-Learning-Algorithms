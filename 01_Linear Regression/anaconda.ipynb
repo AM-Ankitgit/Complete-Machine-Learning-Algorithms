{
 "cells": [
  {
   "cell_type": "markdown",
   "id": "78173416",
   "metadata": {},
   "source": [
    "## 1 Create Conda env"
   ]
  },
  {
   "cell_type": "code",
   "execution_count": null,
   "id": "5e7796d3",
   "metadata": {},
   "outputs": [],
   "source": [
    "conda create -n env_name\n",
    "\n",
    "example:\n",
    "    conda create -n medical_insurance\n",
    "# for new version\n",
    "conda create -n medical_insurance python=3.10\n",
    "\n",
    "# for Old version\n",
    "conda create -n medical_insurance python=3.8.1"
   ]
  },
  {
   "cell_type": "markdown",
   "id": "d93675d4",
   "metadata": {},
   "source": [
    "## 1.1 Create conda env by using yml file"
   ]
  },
  {
   "cell_type": "code",
   "execution_count": null,
   "id": "e9ee3c53",
   "metadata": {},
   "outputs": [],
   "source": [
    "conda env create --file filename.yml\n",
    "example>\n",
    "conda env create --file medical.yml"
   ]
  },
  {
   "cell_type": "markdown",
   "id": "4d9f102c",
   "metadata": {},
   "source": [
    "## 2 conda env list"
   ]
  },
  {
   "cell_type": "code",
   "execution_count": null,
   "id": "ece93e56",
   "metadata": {},
   "outputs": [],
   "source": [
    "conda env list"
   ]
  },
  {
   "cell_type": "markdown",
   "id": "4fc98658",
   "metadata": {},
   "source": [
    "## 3 conda list"
   ]
  },
  {
   "cell_type": "code",
   "execution_count": null,
   "id": "e31d779e",
   "metadata": {},
   "outputs": [],
   "source": [
    "all installed libraries"
   ]
  },
  {
   "cell_type": "markdown",
   "id": "2e8bb3f0",
   "metadata": {},
   "source": [
    "# 4) conda deactivate"
   ]
  },
  {
   "cell_type": "code",
   "execution_count": null,
   "id": "3817ff64",
   "metadata": {},
   "outputs": [],
   "source": [
    "conda deactivate"
   ]
  },
  {
   "cell_type": "markdown",
   "id": "07fee7af",
   "metadata": {},
   "source": [
    "## 5) Install libraries in conda env"
   ]
  },
  {
   "cell_type": "code",
   "execution_count": null,
   "id": "421a5a49",
   "metadata": {},
   "outputs": [],
   "source": [
    "# pandas\n",
    "conda install -c anaconda pandas \n",
    "or\n",
    "conda install pandas\n",
    "# sklearn\n",
    "conda install -c anaconda scikit-learn\n",
    "or\n",
    "conda install -c conda-forge scikit-learn\n",
    "# pdf to text\n",
    "conda install -c conda-forge pdftotext\n"
   ]
  },
  {
   "cell_type": "markdown",
   "id": "9dff713e",
   "metadata": {},
   "source": [
    "## 6) Create conda env file > export"
   ]
  },
  {
   "cell_type": "code",
   "execution_count": null,
   "id": "e91a2cc0",
   "metadata": {},
   "outputs": [],
   "source": [
    "conda env export>file_name.yml\n",
    "example >\n",
    "conda env export>medical.yml"
   ]
  },
  {
   "cell_type": "markdown",
   "id": "37bbaa7d",
   "metadata": {},
   "source": [
    "## 7) Remove"
   ]
  },
  {
   "cell_type": "code",
   "execution_count": null,
   "id": "0704544e",
   "metadata": {},
   "outputs": [],
   "source": [
    "conda env remove -n env_name\n",
    "example:\n",
    "    conda env remove -n project-2"
   ]
  },
  {
   "cell_type": "markdown",
   "id": "283f50f3",
   "metadata": {},
   "source": [
    "## 8) create requirements.txt file"
   ]
  },
  {
   "cell_type": "code",
   "execution_count": null,
   "id": "741aa5d3",
   "metadata": {},
   "outputs": [],
   "source": [
    "conda list -e>requirements.txt"
   ]
  }
 ],
 "metadata": {
  "kernelspec": {
   "display_name": "Python 3 (ipykernel)",
   "language": "python",
   "name": "python3"
  },
  "language_info": {
   "codemirror_mode": {
    "name": "ipython",
    "version": 3
   },
   "file_extension": ".py",
   "mimetype": "text/x-python",
   "name": "python",
   "nbconvert_exporter": "python",
   "pygments_lexer": "ipython3",
   "version": "3.8.16"
  }
 },
 "nbformat": 4,
 "nbformat_minor": 5
}
