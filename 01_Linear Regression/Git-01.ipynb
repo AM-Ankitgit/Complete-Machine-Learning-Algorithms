{
 "cells": [
  {
   "cell_type": "markdown",
   "id": "a00fac51",
   "metadata": {},
   "source": [
    "## GitHub"
   ]
  },
  {
   "cell_type": "markdown",
   "id": "9425efb8",
   "metadata": {},
   "source": [
    "## 1) Clone"
   ]
  },
  {
   "cell_type": "code",
   "execution_count": null,
   "id": "af98e195",
   "metadata": {},
   "outputs": [],
   "source": [
    "git clone url"
   ]
  },
  {
   "cell_type": "markdown",
   "id": "de8d7db3",
   "metadata": {},
   "source": [
    "## 2) add"
   ]
  },
  {
   "cell_type": "code",
   "execution_count": null,
   "id": "43d42b3f",
   "metadata": {},
   "outputs": [],
   "source": [
    "git add file_name  # fir single file\n",
    "\n",
    "# fir multiple files\n",
    "git add . \n",
    "git add --file"
   ]
  },
  {
   "cell_type": "markdown",
   "id": "a7d65298",
   "metadata": {},
   "source": [
    "## 3) commit"
   ]
  },
  {
   "cell_type": "code",
   "execution_count": null,
   "id": "21d5dce5",
   "metadata": {},
   "outputs": [],
   "source": [
    "git commit -m \"msg\""
   ]
  },
  {
   "cell_type": "markdown",
   "id": "53b8de03",
   "metadata": {},
   "source": [
    "## 4) push"
   ]
  },
  {
   "cell_type": "code",
   "execution_count": null,
   "id": "db937984",
   "metadata": {},
   "outputs": [],
   "source": [
    "git push\n",
    "\n",
    "# for multiple branch\n",
    "git push origin branch-name"
   ]
  },
  {
   "cell_type": "markdown",
   "id": "531a5a70",
   "metadata": {},
   "source": [
    "## 5) status"
   ]
  },
  {
   "cell_type": "code",
   "execution_count": null,
   "id": "559d34ab",
   "metadata": {},
   "outputs": [],
   "source": [
    "git status"
   ]
  },
  {
   "cell_type": "markdown",
   "id": "5c4d1284",
   "metadata": {},
   "source": [
    "## 6) list branches"
   ]
  },
  {
   "cell_type": "code",
   "execution_count": null,
   "id": "70a47ef9",
   "metadata": {},
   "outputs": [],
   "source": [
    "git branch"
   ]
  },
  {
   "cell_type": "markdown",
   "id": "6e22cc78",
   "metadata": {},
   "source": [
    "## 7) Create new branch"
   ]
  },
  {
   "cell_type": "code",
   "execution_count": null,
   "id": "aa48e875",
   "metadata": {},
   "outputs": [],
   "source": [
    "git checkout -b branch_name\n",
    "\n",
    "example\n",
    "git checkout -b utils"
   ]
  },
  {
   "cell_type": "markdown",
   "id": "07b7a6fb",
   "metadata": {},
   "source": [
    "## 8) switch branch"
   ]
  },
  {
   "cell_type": "code",
   "execution_count": null,
   "id": "2766b4dd",
   "metadata": {},
   "outputs": [],
   "source": [
    "git checkout branch_name\n",
    "example (main, utils)\n",
    "*utils # we are on utils branch\n",
    " main\n",
    "   \n",
    "git checkout main"
   ]
  },
  {
   "cell_type": "markdown",
   "id": "894496f8",
   "metadata": {},
   "source": [
    "### 9) delete branch"
   ]
  },
  {
   "cell_type": "code",
   "execution_count": null,
   "id": "866fadb5",
   "metadata": {},
   "outputs": [],
   "source": [
    "git branch -d branch_name\n",
    "\n",
    "git branch -D branch_name  # if merge"
   ]
  },
  {
   "cell_type": "code",
   "execution_count": null,
   "id": "ddd671c1",
   "metadata": {},
   "outputs": [],
   "source": [
    "main & sub_branch_name >> \"Model_training\"  # added testing & training\n",
    "\n",
    "Model_training >> sub_branch_name >> \"Evaluation\" # added outlier\n",
    "Model_training >> sub_branch_name >> \"Lr_model\""
   ]
  },
  {
   "cell_type": "code",
   "execution_count": null,
   "id": "95f824e2",
   "metadata": {},
   "outputs": [],
   "source": [
    "git pull"
   ]
  },
  {
   "cell_type": "code",
   "execution_count": null,
   "id": "c65b11d7",
   "metadata": {},
   "outputs": [],
   "source": [
    "git restore --stage file name"
   ]
  },
  {
   "cell_type": "code",
   "execution_count": null,
   "id": "9deebd85",
   "metadata": {},
   "outputs": [],
   "source": [
    ".gitignore  # this should be in local dir no need to push andd and commit\n",
    "*.csv\n",
    "*.excel\n",
    "*.pdf"
   ]
  }
 ],
 "metadata": {
  "kernelspec": {
   "display_name": "Python 3",
   "language": "python",
   "name": "python3"
  },
  "language_info": {
   "codemirror_mode": {
    "name": "ipython",
    "version": 3
   },
   "file_extension": ".py",
   "mimetype": "text/x-python",
   "name": "python",
   "nbconvert_exporter": "python",
   "pygments_lexer": "ipython3",
   "version": "3.8.8"
  }
 },
 "nbformat": 4,
 "nbformat_minor": 5
}
