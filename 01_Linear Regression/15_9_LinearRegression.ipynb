{
 "cells": [
  {
   "cell_type": "markdown",
   "id": "4dfac483",
   "metadata": {},
   "source": [
    "## Assumptions"
   ]
  },
  {
   "cell_type": "code",
   "execution_count": null,
   "id": "0b605d1d",
   "metadata": {},
   "outputs": [],
   "source": [
    "1 Linearity\n",
    "2. No Multicolinearity\n",
    "3. Normality of Residual\n",
    "4. Homscedasticity\n",
    "\n",
    "\n",
    "\n",
    "types of error \n",
    "reducable : this error can be reduce suppose we are build activity prediction of cattle and of all the kind of breed or type of cattle we just to small set of data because this reason we are not getting generalized output set\n",
    "so by adding more data we can reduce the error \n",
    "\n",
    "and irreducable :after building model if the use of model is not satisfied because of the external problem\n",
    "\n",
    "like :\n",
    "suppose we build house price predition model and model giving some sort of price of house price\n",
    "but because  of the number of dog coming to this house and making area of house dirty that cannot be handle here by ml here\n"
   ]
  },
  {
   "cell_type": "markdown",
   "id": "7723669e",
   "metadata": {},
   "source": [
    "## Normality of Residual"
   ]
  },
  {
   "cell_type": "code",
   "execution_count": null,
   "id": "e08ae992",
   "metadata": {},
   "outputs": [],
   "source": [
    "it assumes that error term should follow the normal distribution pattern (Bell shape curve)"
   ]
  },
  {
   "cell_type": "markdown",
   "id": "d5400765",
   "metadata": {},
   "source": [
    "## Homscedasticity"
   ]
  },
  {
   "cell_type": "code",
   "execution_count": null,
   "id": "8126fba3",
   "metadata": {},
   "outputs": [],
   "source": [
    "Error term should follow Homscedasticity behaviour\n",
    "> When error term is the same for all values of independent variable\n",
    "i.e constant variance at every value of x "
   ]
  },
  {
   "cell_type": "markdown",
   "id": "3f176d71",
   "metadata": {},
   "source": [
    "## Underfitting and Overfitting"
   ]
  },
  {
   "cell_type": "markdown",
   "id": "177df19c",
   "metadata": {},
   "source": [
    "## Overfitting"
   ]
  },
  {
   "cell_type": "code",
   "execution_count": null,
   "id": "ceb829ee",
   "metadata": {},
   "outputs": [],
   "source": [
    "Training dataset accuracy  97%\n",
    "Testing dataset accuracy   78%\n",
    "\n",
    "Low Bias and High Variance\n",
    "\n",
    "\n",
    "Bias \n",
    "Low bias  > High training dataset accuracy\n",
    "high bias > Low training dataset accuracy\n",
    "\n",
    "\n",
    "Variance > difference between two datasets accuracies\n",
    "1. High variance\n",
    "    a) High Training dataset accuracy  and low Testing dataset accuracy \n",
    "    b) Low Training dataset accuracy  and High Testing dataset accuracy \n",
    "    \n",
    "    \n",
    "2. Low variance\n",
    "    a) High Training dataset accuracy  and High Testing dataset accuracy \n",
    "    b) Low Training dataset accuracy  and low Testing dataset accuracy   \n"
   ]
  },
  {
   "cell_type": "markdown",
   "id": "d3feee43",
   "metadata": {},
   "source": [
    "## How to avoid Overfitting"
   ]
  },
  {
   "cell_type": "code",
   "execution_count": null,
   "id": "61f92cfe",
   "metadata": {},
   "outputs": [],
   "source": [
    "1. Hyperparameter Tuning >  it is use to reduce variance\n",
    "  GridSearchCV\n",
    "  RandomizedSearchCV\n",
    "2. Train with more data (5000 rows  >>> )\n",
    "3. Reduce features ( 34 >> 5)\n",
    "   PCA \n",
    "   Feature selection technique\n",
    "4. Pruning ( Cutting branches of decision tree) >> Tree Based Model / algorithm\n",
    "\n",
    "5. Regularization (L1 and L2)  >>> Only use for Linear model (Linear regression and Logistic regression)\n",
    "   1 L1 >> Lasso Regression\n",
    "   2.L2 >> Ridge Regression\n",
    "\n",
    "6. Cross Validation\n",
    "   > K-fold Cross Validation\n",
    "    \n",
    "7. Remove Outliers"
   ]
  },
  {
   "cell_type": "markdown",
   "id": "6858732f",
   "metadata": {},
   "source": [
    "## Underfitting"
   ]
  },
  {
   "cell_type": "code",
   "execution_count": null,
   "id": "4e3622ee",
   "metadata": {},
   "outputs": [],
   "source": [
    "Training dataset accuracy  70%  \n",
    "Testing dataset accuracy   68%\n",
    "\n",
    "High Bias and low Variance"
   ]
  },
  {
   "cell_type": "markdown",
   "id": "fea8e3a2",
   "metadata": {},
   "source": [
    "## How to avoid Underfitting"
   ]
  },
  {
   "cell_type": "code",
   "execution_count": null,
   "id": "1292bbde",
   "metadata": {},
   "outputs": [],
   "source": [
    "1. Add more features ( 5 >> 12)\n",
    "2. Use only correlated features\n",
    "3. Remove outliers\n",
    "4. Increase data size\n",
    "5. Handling of missing values ( Mean, mode, median, quantile,Imputation technique)\n",
    "6. Use of proper feature selection technique\n",
    "7. "
   ]
  },
  {
   "cell_type": "markdown",
   "id": "d4b164f8",
   "metadata": {},
   "source": [
    "## Good Model"
   ]
  },
  {
   "cell_type": "code",
   "execution_count": null,
   "id": "0db4fd08",
   "metadata": {},
   "outputs": [],
   "source": [
    "Training dataset accuracy  97%\n",
    "Testing dataset accuracy   95%\n",
    "\n",
    "Low Bias and low Variance"
   ]
  },
  {
   "cell_type": "markdown",
   "id": "44ac4c2b",
   "metadata": {},
   "source": [
    "## Advantages"
   ]
  },
  {
   "cell_type": "code",
   "execution_count": null,
   "id": "ca600f65",
   "metadata": {},
   "outputs": [],
   "source": [
    "1. Perform exceptionaly well on linear data\n",
    "2. Easy for implemention\n",
    "3  Overfiting can be reduce by L1 AND L2 Regularization"
   ]
  },
  {
   "cell_type": "markdown",
   "id": "cf898e53",
   "metadata": {},
   "source": [
    "## Diasdavantages"
   ]
  },
  {
   "cell_type": "code",
   "execution_count": null,
   "id": "194b3696",
   "metadata": {},
   "outputs": [],
   "source": [
    "1. Highly sensitive to outliers\n",
    "2. Linearity\n",
    "3. Multi colinearity\n",
    "4. Sensitive to missing values\n",
    "5. It is parametric (Need to confirm)"
   ]
  },
  {
   "cell_type": "code",
   "execution_count": null,
   "id": "1c4d0fb3",
   "metadata": {},
   "outputs": [],
   "source": []
  }
 ],
 "metadata": {
  "kernelspec": {
   "display_name": "Python 3 (ipykernel)",
   "language": "python",
   "name": "python3"
  },
  "language_info": {
   "codemirror_mode": {
    "name": "ipython",
    "version": 3
   },
   "file_extension": ".py",
   "mimetype": "text/x-python",
   "name": "python",
   "nbconvert_exporter": "python",
   "pygments_lexer": "ipython3",
   "version": "3.8.16"
  }
 },
 "nbformat": 4,
 "nbformat_minor": 5
}
