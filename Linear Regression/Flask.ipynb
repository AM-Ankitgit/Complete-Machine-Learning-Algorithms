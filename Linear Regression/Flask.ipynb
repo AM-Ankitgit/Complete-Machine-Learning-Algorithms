{
 "cells": [
  {
   "cell_type": "markdown",
   "id": "4f60c4e3",
   "metadata": {},
   "source": [
    "## Data Science Project Steps"
   ]
  },
  {
   "cell_type": "code",
   "execution_count": null,
   "id": "5c128ed9",
   "metadata": {},
   "outputs": [],
   "source": [
    "1. Problem Statement\n",
    "2. Data Gathering & Data Validation\n",
    "3. EDA\n",
    "4. Feature Engineering\n",
    "5. Feature selection\n",
    "6. Model Training\n",
    "7. Evaluation\n",
    "8. Create APIs\n",
    "9. Deployment"
   ]
  },
  {
   "cell_type": "code",
   "execution_count": null,
   "id": "a1f37fba",
   "metadata": {},
   "outputs": [],
   "source": [
    "UI >> HTML /CSS (Cascading Style sheets) ,JS (Jawa Script)\n",
    "\n",
    "API > Application Programming Interface"
   ]
  },
  {
   "cell_type": "markdown",
   "id": "6c2aef32",
   "metadata": {},
   "source": [
    "## Web Frameworks"
   ]
  },
  {
   "cell_type": "code",
   "execution_count": null,
   "id": "59bf9895",
   "metadata": {},
   "outputs": [],
   "source": [
    "1. Flask\n",
    "2. Django\n",
    "3. gRPC (Google Remote Precedure call)\n",
    "4. FastAPI"
   ]
  },
  {
   "cell_type": "code",
   "execution_count": null,
   "id": "38b254a3",
   "metadata": {},
   "outputs": [],
   "source": [
    "Flask  is Python web Framework\n",
    "\n",
    "wsgi > Web server gateway Interface\n",
    "run.py\n",
    "interface.py\n",
    "main.py\n",
    "views.py\n",
    "wsgi.py\n",
    "\n",
    "config.py >> PORT_NUM , CSV FILE PATH, model_path\n",
    "templates  >> html \n"
   ]
  },
  {
   "cell_type": "code",
   "execution_count": null,
   "id": "8700f8c0",
   "metadata": {},
   "outputs": [],
   "source": [
    "pip install flask"
   ]
  },
  {
   "cell_type": "code",
   "execution_count": null,
   "id": "0d114cfc",
   "metadata": {},
   "outputs": [],
   "source": [
    "# ctrl +c >stop\n",
    "# ctrl + l > clear\n",
    "# ctrl + ~ >> terminal open"
   ]
  }
 ],
 "metadata": {
  "kernelspec": {
   "display_name": "Python 3",
   "language": "python",
   "name": "python3"
  },
  "language_info": {
   "codemirror_mode": {
    "name": "ipython",
    "version": 3
   },
   "file_extension": ".py",
   "mimetype": "text/x-python",
   "name": "python",
   "nbconvert_exporter": "python",
   "pygments_lexer": "ipython3",
   "version": "3.8.8"
  }
 },
 "nbformat": 4,
 "nbformat_minor": 5
}
