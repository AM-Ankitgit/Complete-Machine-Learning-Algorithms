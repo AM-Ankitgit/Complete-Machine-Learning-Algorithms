{
 "cells": [
  {
   "cell_type": "code",
   "execution_count": null,
   "id": "0adf95a1",
   "metadata": {},
   "outputs": [],
   "source": [
    "Project :\n",
    "    JIRA :\n",
    "        EPIC : > 3 MONTHS OR 4 MONTHS\n",
    "            SPRINT : 15 DAYS or 2 weeks  EDA\n",
    "                STORY 1 : 2 COLUMN\n",
    "                STORY 2 : 2 \n",
    "        "
   ]
  },
  {
   "cell_type": "markdown",
   "id": "76024444",
   "metadata": {},
   "source": [
    "## Git"
   ]
  },
  {
   "cell_type": "code",
   "execution_count": null,
   "id": "4f53ef6d",
   "metadata": {},
   "outputs": [],
   "source": [
    "1. GitHub\n",
    "2. GitLab\n",
    "3. BitBucket"
   ]
  },
  {
   "cell_type": "markdown",
   "id": "e02e461b",
   "metadata": {},
   "source": [
    "## status"
   ]
  },
  {
   "cell_type": "code",
   "execution_count": null,
   "id": "fd7b9212",
   "metadata": {},
   "outputs": [],
   "source": [
    "git status"
   ]
  },
  {
   "cell_type": "code",
   "execution_count": null,
   "id": "c62e8327",
   "metadata": {},
   "outputs": [],
   "source": [
    "git branch"
   ]
  },
  {
   "cell_type": "markdown",
   "id": "7bc14e0f",
   "metadata": {},
   "source": [
    "## 1) clone"
   ]
  },
  {
   "cell_type": "code",
   "execution_count": null,
   "id": "72e07cce",
   "metadata": {},
   "outputs": [],
   "source": [
    "git clone url\n",
    "git clone https://github.com/USPEY/House_Price.git"
   ]
  },
  {
   "cell_type": "markdown",
   "id": "252a0f9e",
   "metadata": {},
   "source": [
    "## 2) Add files "
   ]
  },
  {
   "cell_type": "code",
   "execution_count": null,
   "id": "77255bc1",
   "metadata": {},
   "outputs": [],
   "source": [
    "git add file_name\n",
    "e.g\n",
    "git add inteface.py\n",
    "\n",
    "git add . # for multiple files\n",
    "git add --all # for multiple files"
   ]
  },
  {
   "cell_type": "markdown",
   "id": "5ade25c4",
   "metadata": {},
   "source": [
    "## 3) commit your message"
   ]
  },
  {
   "cell_type": "code",
   "execution_count": null,
   "id": "a47e6126",
   "metadata": {},
   "outputs": [],
   "source": [
    "git commit -m \"msg\""
   ]
  },
  {
   "cell_type": "markdown",
   "id": "693128cf",
   "metadata": {},
   "source": [
    "## 4) Push"
   ]
  },
  {
   "cell_type": "code",
   "execution_count": null,
   "id": "f4d0a00e",
   "metadata": {},
   "outputs": [],
   "source": [
    "git push\n",
    "\n",
    "git push origin branch_name  # we need to create sub branch"
   ]
  }
 ],
 "metadata": {
  "kernelspec": {
   "display_name": "Python 3",
   "language": "python",
   "name": "python3"
  },
  "language_info": {
   "codemirror_mode": {
    "name": "ipython",
    "version": 3
   },
   "file_extension": ".py",
   "mimetype": "text/x-python",
   "name": "python",
   "nbconvert_exporter": "python",
   "pygments_lexer": "ipython3",
   "version": "3.8.8"
  }
 },
 "nbformat": 4,
 "nbformat_minor": 5
}
