{
 "cells": [
  {
   "cell_type": "markdown",
   "id": "e9a2ecf5",
   "metadata": {},
   "source": [
    "# Unsupervised ML Algorithm\n",
    "# use to reduce curse of Dimentinality\n",
    "\n",
    "\n",
    "Principal Component Analysis (PCA) is a statistical technique used to identify patterns in data and to reduce the dimensionality of the data by projecting it onto a lower-dimensional space"
   ]
  },
  {
   "cell_type": "code",
   "execution_count": 1,
   "id": "525ce4c4",
   "metadata": {},
   "outputs": [],
   "source": [
    "from sklearn.datasets import load_iris\n",
    "import numpy as np\n",
    "import pandas as pd\n",
    "from numpy.polynomial import Polynomial\n",
    "import plotly.express as px"
   ]
  },
  {
   "cell_type": "code",
   "execution_count": 2,
   "id": "342cda35",
   "metadata": {},
   "outputs": [],
   "source": [
    "df = pd.DataFrame(load_iris().data,columns=load_iris().feature_names)"
   ]
  },
  {
   "cell_type": "code",
   "execution_count": 3,
   "id": "4de6b610",
   "metadata": {},
   "outputs": [
    {
     "data": {
      "text/html": [
       "<div>\n",
       "<style scoped>\n",
       "    .dataframe tbody tr th:only-of-type {\n",
       "        vertical-align: middle;\n",
       "    }\n",
       "\n",
       "    .dataframe tbody tr th {\n",
       "        vertical-align: top;\n",
       "    }\n",
       "\n",
       "    .dataframe thead th {\n",
       "        text-align: right;\n",
       "    }\n",
       "</style>\n",
       "<table border=\"1\" class=\"dataframe\">\n",
       "  <thead>\n",
       "    <tr style=\"text-align: right;\">\n",
       "      <th></th>\n",
       "      <th>sepal length (cm)</th>\n",
       "      <th>sepal width (cm)</th>\n",
       "      <th>petal length (cm)</th>\n",
       "      <th>petal width (cm)</th>\n",
       "    </tr>\n",
       "  </thead>\n",
       "  <tbody>\n",
       "    <tr>\n",
       "      <th>0</th>\n",
       "      <td>5.1</td>\n",
       "      <td>3.5</td>\n",
       "      <td>1.4</td>\n",
       "      <td>0.2</td>\n",
       "    </tr>\n",
       "    <tr>\n",
       "      <th>1</th>\n",
       "      <td>4.9</td>\n",
       "      <td>3.0</td>\n",
       "      <td>1.4</td>\n",
       "      <td>0.2</td>\n",
       "    </tr>\n",
       "    <tr>\n",
       "      <th>2</th>\n",
       "      <td>4.7</td>\n",
       "      <td>3.2</td>\n",
       "      <td>1.3</td>\n",
       "      <td>0.2</td>\n",
       "    </tr>\n",
       "    <tr>\n",
       "      <th>3</th>\n",
       "      <td>4.6</td>\n",
       "      <td>3.1</td>\n",
       "      <td>1.5</td>\n",
       "      <td>0.2</td>\n",
       "    </tr>\n",
       "    <tr>\n",
       "      <th>4</th>\n",
       "      <td>5.0</td>\n",
       "      <td>3.6</td>\n",
       "      <td>1.4</td>\n",
       "      <td>0.2</td>\n",
       "    </tr>\n",
       "    <tr>\n",
       "      <th>...</th>\n",
       "      <td>...</td>\n",
       "      <td>...</td>\n",
       "      <td>...</td>\n",
       "      <td>...</td>\n",
       "    </tr>\n",
       "    <tr>\n",
       "      <th>145</th>\n",
       "      <td>6.7</td>\n",
       "      <td>3.0</td>\n",
       "      <td>5.2</td>\n",
       "      <td>2.3</td>\n",
       "    </tr>\n",
       "    <tr>\n",
       "      <th>146</th>\n",
       "      <td>6.3</td>\n",
       "      <td>2.5</td>\n",
       "      <td>5.0</td>\n",
       "      <td>1.9</td>\n",
       "    </tr>\n",
       "    <tr>\n",
       "      <th>147</th>\n",
       "      <td>6.5</td>\n",
       "      <td>3.0</td>\n",
       "      <td>5.2</td>\n",
       "      <td>2.0</td>\n",
       "    </tr>\n",
       "    <tr>\n",
       "      <th>148</th>\n",
       "      <td>6.2</td>\n",
       "      <td>3.4</td>\n",
       "      <td>5.4</td>\n",
       "      <td>2.3</td>\n",
       "    </tr>\n",
       "    <tr>\n",
       "      <th>149</th>\n",
       "      <td>5.9</td>\n",
       "      <td>3.0</td>\n",
       "      <td>5.1</td>\n",
       "      <td>1.8</td>\n",
       "    </tr>\n",
       "  </tbody>\n",
       "</table>\n",
       "<p>150 rows × 4 columns</p>\n",
       "</div>"
      ],
      "text/plain": [
       "     sepal length (cm)  sepal width (cm)  petal length (cm)  petal width (cm)\n",
       "0                  5.1               3.5                1.4               0.2\n",
       "1                  4.9               3.0                1.4               0.2\n",
       "2                  4.7               3.2                1.3               0.2\n",
       "3                  4.6               3.1                1.5               0.2\n",
       "4                  5.0               3.6                1.4               0.2\n",
       "..                 ...               ...                ...               ...\n",
       "145                6.7               3.0                5.2               2.3\n",
       "146                6.3               2.5                5.0               1.9\n",
       "147                6.5               3.0                5.2               2.0\n",
       "148                6.2               3.4                5.4               2.3\n",
       "149                5.9               3.0                5.1               1.8\n",
       "\n",
       "[150 rows x 4 columns]"
      ]
     },
     "execution_count": 3,
     "metadata": {},
     "output_type": "execute_result"
    }
   ],
   "source": [
    "df"
   ]
  },
  {
   "cell_type": "code",
   "execution_count": 4,
   "id": "f3e99874",
   "metadata": {},
   "outputs": [
    {
     "data": {
      "text/html": [
       "<div>\n",
       "<style scoped>\n",
       "    .dataframe tbody tr th:only-of-type {\n",
       "        vertical-align: middle;\n",
       "    }\n",
       "\n",
       "    .dataframe tbody tr th {\n",
       "        vertical-align: top;\n",
       "    }\n",
       "\n",
       "    .dataframe thead th {\n",
       "        text-align: right;\n",
       "    }\n",
       "</style>\n",
       "<table border=\"1\" class=\"dataframe\">\n",
       "  <thead>\n",
       "    <tr style=\"text-align: right;\">\n",
       "      <th></th>\n",
       "      <th>sepal length (cm)</th>\n",
       "      <th>sepal width (cm)</th>\n",
       "      <th>petal length (cm)</th>\n",
       "      <th>petal width (cm)</th>\n",
       "    </tr>\n",
       "  </thead>\n",
       "  <tbody>\n",
       "    <tr>\n",
       "      <th>sepal length (cm)</th>\n",
       "      <td>0.685694</td>\n",
       "      <td>-0.042434</td>\n",
       "      <td>1.274315</td>\n",
       "      <td>0.516271</td>\n",
       "    </tr>\n",
       "    <tr>\n",
       "      <th>sepal width (cm)</th>\n",
       "      <td>-0.042434</td>\n",
       "      <td>0.189979</td>\n",
       "      <td>-0.329656</td>\n",
       "      <td>-0.121639</td>\n",
       "    </tr>\n",
       "    <tr>\n",
       "      <th>petal length (cm)</th>\n",
       "      <td>1.274315</td>\n",
       "      <td>-0.329656</td>\n",
       "      <td>3.116278</td>\n",
       "      <td>1.295609</td>\n",
       "    </tr>\n",
       "    <tr>\n",
       "      <th>petal width (cm)</th>\n",
       "      <td>0.516271</td>\n",
       "      <td>-0.121639</td>\n",
       "      <td>1.295609</td>\n",
       "      <td>0.581006</td>\n",
       "    </tr>\n",
       "  </tbody>\n",
       "</table>\n",
       "</div>"
      ],
      "text/plain": [
       "                   sepal length (cm)  sepal width (cm)  petal length (cm)  \\\n",
       "sepal length (cm)           0.685694         -0.042434           1.274315   \n",
       "sepal width (cm)           -0.042434          0.189979          -0.329656   \n",
       "petal length (cm)           1.274315         -0.329656           3.116278   \n",
       "petal width (cm)            0.516271         -0.121639           1.295609   \n",
       "\n",
       "                   petal width (cm)  \n",
       "sepal length (cm)          0.516271  \n",
       "sepal width (cm)          -0.121639  \n",
       "petal length (cm)          1.295609  \n",
       "petal width (cm)           0.581006  "
      ]
     },
     "execution_count": 4,
     "metadata": {},
     "output_type": "execute_result"
    }
   ],
   "source": [
    "df.cov()  # Spread and Direction of data"
   ]
  },
  {
   "cell_type": "markdown",
   "id": "02d21afd",
   "metadata": {},
   "source": [
    "# Eigen Decomposition"
   ]
  },
  {
   "cell_type": "code",
   "execution_count": 5,
   "id": "5848d1e8",
   "metadata": {},
   "outputs": [
    {
     "ename": "SyntaxError",
     "evalue": "invalid syntax (<ipython-input-5-e9d37c2df3ee>, line 1)",
     "output_type": "error",
     "traceback": [
      "\u001b[1;36m  File \u001b[1;32m\"<ipython-input-5-e9d37c2df3ee>\"\u001b[1;36m, line \u001b[1;32m1\u001b[0m\n\u001b[1;33m    Eigen Value\u001b[0m\n\u001b[1;37m          ^\u001b[0m\n\u001b[1;31mSyntaxError\u001b[0m\u001b[1;31m:\u001b[0m invalid syntax\n"
     ]
    }
   ],
   "source": [
    "Eigen Value\n",
    "Eigen Vector"
   ]
  },
  {
   "cell_type": "markdown",
   "id": "9dccfbf5",
   "metadata": {},
   "source": [
    "PCA (Principal Component Analysis) is a dimensionality reduction technique commonly used in data science and machine learning. In PCA, eigenvalues and eigenvectors are important concepts.\n",
    "\n",
    "Eigenvalues represent the magnitude of variation in each principal component (the dimensions with the largest variance in the data), while eigenvectors represent the direction of this variation. In other words, eigenvalues tell us how much information is contained in each principal component, and eigenvectors tell us in which direction this information lies.\n",
    "\n",
    "Mathematically, given a dataset, PCA finds the eigenvectors and eigenvalues of its covariance matrix. The eigenvectors are then used to transform the original dataset into a new coordinate system, where the dimensions are the principal components. The eigenvalues determine how much variance is retained in each principal component. The principal components are ordered in decreasing order of eigenvalues, meaning that the first principal component has the largest eigenvalue and explains the most variation in the data.\n",
    "\n",
    "In summary, eigenvalues and eigenvectors are key concepts in PCA that help us understand how much variance is contained in each principal component and in which direction this variation lies."
   ]
  },
  {
   "cell_type": "markdown",
   "id": "96d44195",
   "metadata": {},
   "source": [
    "Data preparation: First, we need to prepare the data by standardizing it. This means scaling each feature to have zero mean and unit variance. Standardization is important in PCA because it ensures that each feature has the same weight when calculating principal components.\n",
    "\n",
    "Covariance matrix: Next, we calculate the covariance matrix of the standardized data. The covariance matrix is a square matrix that shows how much two variables vary together. In this case, the covariance matrix will be a 4x4 matrix since there are 4 features in the dataset.\n",
    "\n",
    "Eigen decomposition: We then perform eigen decomposition on the covariance matrix to find the eigenvalues and eigenvectors. The eigenvectors represent the principal components, and the eigenvalues represent the amount of variance explained by each principal component. We sort the eigenvectors in decreasing order of their corresponding eigenvalues to identify the most important principal components.\n",
    "\n",
    "Projection: Finally, we project the standardized data onto the principal components to obtain a new set of features, where each feature corresponds to a principal component. The new features are ordered based on the importance of the principal components."
   ]
  },
  {
   "cell_type": "code",
   "execution_count": 6,
   "id": "106b2d06",
   "metadata": {},
   "outputs": [],
   "source": [
    "matrix = np.array([[2,3],[4,3]])\n",
    "w,v =np.linalg.eig(matrix) # it return both and w=eigen value and v=eigen vector"
   ]
  },
  {
   "cell_type": "code",
   "execution_count": 7,
   "id": "1a547ee4",
   "metadata": {},
   "outputs": [
    {
     "data": {
      "text/plain": [
       "(array([-1.,  6.]),\n",
       " array([[-0.70710678, -0.6       ],\n",
       "        [ 0.70710678, -0.8       ]]))"
      ]
     },
     "execution_count": 7,
     "metadata": {},
     "output_type": "execute_result"
    }
   ],
   "source": [
    "w,v"
   ]
  },
  {
   "cell_type": "code",
   "execution_count": 8,
   "id": "da49d009",
   "metadata": {},
   "outputs": [
    {
     "data": {
      "text/plain": [
       "array([-1.,  6.])"
      ]
     },
     "execution_count": 8,
     "metadata": {},
     "output_type": "execute_result"
    }
   ],
   "source": [
    "a = 1          #array([-1.,  6.]) this is eigen value\n",
    "b = -5 \n",
    "c = -6\n",
    "p = Polynomial([c,b,a])\n",
    "p.roots()"
   ]
  },
  {
   "cell_type": "code",
   "execution_count": 9,
   "id": "ff31742a",
   "metadata": {},
   "outputs": [
    {
     "data": {
      "text/html": [
       "<div>\n",
       "<style scoped>\n",
       "    .dataframe tbody tr th:only-of-type {\n",
       "        vertical-align: middle;\n",
       "    }\n",
       "\n",
       "    .dataframe tbody tr th {\n",
       "        vertical-align: top;\n",
       "    }\n",
       "\n",
       "    .dataframe thead th {\n",
       "        text-align: right;\n",
       "    }\n",
       "</style>\n",
       "<table border=\"1\" class=\"dataframe\">\n",
       "  <thead>\n",
       "    <tr style=\"text-align: right;\">\n",
       "      <th></th>\n",
       "      <th>sepal length (cm)</th>\n",
       "      <th>sepal width (cm)</th>\n",
       "      <th>petal length (cm)</th>\n",
       "      <th>petal width (cm)</th>\n",
       "    </tr>\n",
       "  </thead>\n",
       "  <tbody>\n",
       "    <tr>\n",
       "      <th>sepal length (cm)</th>\n",
       "      <td>0.685694</td>\n",
       "      <td>-0.042434</td>\n",
       "      <td>1.274315</td>\n",
       "      <td>0.516271</td>\n",
       "    </tr>\n",
       "    <tr>\n",
       "      <th>sepal width (cm)</th>\n",
       "      <td>-0.042434</td>\n",
       "      <td>0.189979</td>\n",
       "      <td>-0.329656</td>\n",
       "      <td>-0.121639</td>\n",
       "    </tr>\n",
       "    <tr>\n",
       "      <th>petal length (cm)</th>\n",
       "      <td>1.274315</td>\n",
       "      <td>-0.329656</td>\n",
       "      <td>3.116278</td>\n",
       "      <td>1.295609</td>\n",
       "    </tr>\n",
       "    <tr>\n",
       "      <th>petal width (cm)</th>\n",
       "      <td>0.516271</td>\n",
       "      <td>-0.121639</td>\n",
       "      <td>1.295609</td>\n",
       "      <td>0.581006</td>\n",
       "    </tr>\n",
       "  </tbody>\n",
       "</table>\n",
       "</div>"
      ],
      "text/plain": [
       "                   sepal length (cm)  sepal width (cm)  petal length (cm)  \\\n",
       "sepal length (cm)           0.685694         -0.042434           1.274315   \n",
       "sepal width (cm)           -0.042434          0.189979          -0.329656   \n",
       "petal length (cm)           1.274315         -0.329656           3.116278   \n",
       "petal width (cm)            0.516271         -0.121639           1.295609   \n",
       "\n",
       "                   petal width (cm)  \n",
       "sepal length (cm)          0.516271  \n",
       "sepal width (cm)          -0.121639  \n",
       "petal length (cm)          1.295609  \n",
       "petal width (cm)           0.581006  "
      ]
     },
     "execution_count": 9,
     "metadata": {},
     "output_type": "execute_result"
    }
   ],
   "source": [
    "cov_matrix =df.cov()\n",
    "cov_matrix"
   ]
  },
  {
   "cell_type": "code",
   "execution_count": 10,
   "id": "e3bf08c3",
   "metadata": {},
   "outputs": [
    {
     "data": {
      "text/plain": [
       "array([4.22824171, 0.24267075, 0.0782095 , 0.02383509])"
      ]
     },
     "execution_count": 10,
     "metadata": {},
     "output_type": "execute_result"
    }
   ],
   "source": [
    "eigen = np.linalg.eigvals(cov_matrix)\n",
    "eigen  # this eigen value"
   ]
  },
  {
   "cell_type": "code",
   "execution_count": null,
   "id": "40dc1089",
   "metadata": {},
   "outputs": [],
   "source": []
  },
  {
   "cell_type": "code",
   "execution_count": 11,
   "id": "ca746321",
   "metadata": {},
   "outputs": [
    {
     "ename": "NameError",
     "evalue": "name 'eigen_value' is not defined",
     "output_type": "error",
     "traceback": [
      "\u001b[1;31m---------------------------------------------------------------------------\u001b[0m",
      "\u001b[1;31mNameError\u001b[0m                                 Traceback (most recent call last)",
      "\u001b[1;32m<ipython-input-11-1ade0536ca53>\u001b[0m in \u001b[0;36m<module>\u001b[1;34m\u001b[0m\n\u001b[0;32m      1\u001b[0m \u001b[0meigen_values\u001b[0m \u001b[1;33m,\u001b[0m\u001b[0meigen_vector\u001b[0m \u001b[1;33m=\u001b[0m  \u001b[0mnp\u001b[0m\u001b[1;33m.\u001b[0m\u001b[0mlinalg\u001b[0m\u001b[1;33m.\u001b[0m\u001b[0meig\u001b[0m\u001b[1;33m(\u001b[0m\u001b[0mcov_matrix\u001b[0m\u001b[1;33m)\u001b[0m\u001b[1;33m\u001b[0m\u001b[1;33m\u001b[0m\u001b[0m\n\u001b[1;32m----> 2\u001b[1;33m \u001b[0meigen_value\u001b[0m\u001b[1;33m\u001b[0m\u001b[1;33m\u001b[0m\u001b[0m\n\u001b[0m",
      "\u001b[1;31mNameError\u001b[0m: name 'eigen_value' is not defined"
     ]
    }
   ],
   "source": [
    "eigen_values ,eigen_vector =  np.linalg.eig(cov_matrix)\n",
    "eigen_value"
   ]
  },
  {
   "cell_type": "markdown",
   "id": "98a51c7c",
   "metadata": {},
   "source": [
    "WHAY WE USE COV in PCA>>>IT GIVES DIRECTION \n",
    "WHY WE CAN NOT USE MEAN IN PCA\n",
    "Principal Component Analysis (PCA) is a statistical technique used to identify patterns in data and to reduce the dimensionality of the data by projecting it onto a lower-dimensional space\n",
    "\n",
    "We cannot use the mean in PCA because the mean does not capture the variance or covariance between variables in the data."
   ]
  },
  {
   "cell_type": "markdown",
   "id": "5de75cf4",
   "metadata": {},
   "source": [
    "# PCA WITH Iris Data"
   ]
  },
  {
   "cell_type": "code",
   "execution_count": 12,
   "id": "95f264c6",
   "metadata": {},
   "outputs": [],
   "source": [
    "import pandas as pd\n",
    "import numpy as np\n",
    "from sklearn.preprocessing import StandardScaler,MinMaxScaler\n",
    "from sklearn.linear_model import LogisticRegression\n",
    "from sklearn.neighbors import KNeighborsClassifier\n",
    "from sklearn.model_selection import train_test_split\n",
    "from sklearn.decomposition import PCA\n",
    "\n",
    "import matplotlib.pyplot as plt\n",
    "import seaborn as sns\n",
    "import warnings\n",
    "warnings.filterwarnings('ignore')\n",
    "\n",
    "\n",
    "import plotly.express as px"
   ]
  },
  {
   "cell_type": "code",
   "execution_count": 13,
   "id": "621c301c",
   "metadata": {},
   "outputs": [
    {
     "data": {
      "text/html": [
       "<div>\n",
       "<style scoped>\n",
       "    .dataframe tbody tr th:only-of-type {\n",
       "        vertical-align: middle;\n",
       "    }\n",
       "\n",
       "    .dataframe tbody tr th {\n",
       "        vertical-align: top;\n",
       "    }\n",
       "\n",
       "    .dataframe thead th {\n",
       "        text-align: right;\n",
       "    }\n",
       "</style>\n",
       "<table border=\"1\" class=\"dataframe\">\n",
       "  <thead>\n",
       "    <tr style=\"text-align: right;\">\n",
       "      <th></th>\n",
       "      <th>sepal_length</th>\n",
       "      <th>sepal_width</th>\n",
       "      <th>petal_length</th>\n",
       "      <th>petal_width</th>\n",
       "      <th>species</th>\n",
       "    </tr>\n",
       "  </thead>\n",
       "  <tbody>\n",
       "    <tr>\n",
       "      <th>0</th>\n",
       "      <td>5.1</td>\n",
       "      <td>3.5</td>\n",
       "      <td>1.4</td>\n",
       "      <td>0.2</td>\n",
       "      <td>setosa</td>\n",
       "    </tr>\n",
       "  </tbody>\n",
       "</table>\n",
       "</div>"
      ],
      "text/plain": [
       "   sepal_length  sepal_width  petal_length  petal_width species\n",
       "0           5.1          3.5           1.4          0.2  setosa"
      ]
     },
     "execution_count": 13,
     "metadata": {},
     "output_type": "execute_result"
    }
   ],
   "source": [
    "df = sns.load_dataset('iris')\n",
    "df.head(1)"
   ]
  },
  {
   "cell_type": "code",
   "execution_count": 14,
   "id": "6c79a913",
   "metadata": {},
   "outputs": [],
   "source": [
    "x = df.drop('species',axis=1)\n",
    "y = df['species']"
   ]
  },
  {
   "cell_type": "code",
   "execution_count": 15,
   "id": "af8d8ef5",
   "metadata": {},
   "outputs": [],
   "source": [
    "x_train,x_test,y_train,y_test = train_test_split(x,y,test_size=0.2,random_state=42,stratify=y)"
   ]
  },
  {
   "cell_type": "markdown",
   "id": "746dc4ab",
   "metadata": {},
   "source": [
    "# Preprocessing\n",
    "Preprocessing is mandatory because outlier in data may lead wrong result"
   ]
  },
  {
   "cell_type": "code",
   "execution_count": 16,
   "id": "c90d5268",
   "metadata": {},
   "outputs": [],
   "source": [
    "std_scalar = StandardScaler()\n",
    "std_array = std_scalar.fit_transform(x_train)\n",
    "x_train_std = pd.DataFrame(std_array,columns=x_train.columns)"
   ]
  },
  {
   "cell_type": "code",
   "execution_count": 17,
   "id": "10eb6bfa",
   "metadata": {},
   "outputs": [
    {
     "data": {
      "text/html": [
       "<div>\n",
       "<style scoped>\n",
       "    .dataframe tbody tr th:only-of-type {\n",
       "        vertical-align: middle;\n",
       "    }\n",
       "\n",
       "    .dataframe tbody tr th {\n",
       "        vertical-align: top;\n",
       "    }\n",
       "\n",
       "    .dataframe thead th {\n",
       "        text-align: right;\n",
       "    }\n",
       "</style>\n",
       "<table border=\"1\" class=\"dataframe\">\n",
       "  <thead>\n",
       "    <tr style=\"text-align: right;\">\n",
       "      <th></th>\n",
       "      <th>sepal_length</th>\n",
       "      <th>sepal_width</th>\n",
       "      <th>petal_length</th>\n",
       "      <th>petal_width</th>\n",
       "    </tr>\n",
       "  </thead>\n",
       "  <tbody>\n",
       "    <tr>\n",
       "      <th>0</th>\n",
       "      <td>-1.721568</td>\n",
       "      <td>-0.332101</td>\n",
       "      <td>-1.345722</td>\n",
       "      <td>-1.323276</td>\n",
       "    </tr>\n",
       "    <tr>\n",
       "      <th>1</th>\n",
       "      <td>-1.124492</td>\n",
       "      <td>-1.227655</td>\n",
       "      <td>0.414505</td>\n",
       "      <td>0.651763</td>\n",
       "    </tr>\n",
       "    <tr>\n",
       "      <th>2</th>\n",
       "      <td>1.144395</td>\n",
       "      <td>-0.555990</td>\n",
       "      <td>0.584850</td>\n",
       "      <td>0.256755</td>\n",
       "    </tr>\n",
       "    <tr>\n",
       "      <th>3</th>\n",
       "      <td>-1.124492</td>\n",
       "      <td>0.115676</td>\n",
       "      <td>-1.288941</td>\n",
       "      <td>-1.454945</td>\n",
       "    </tr>\n",
       "    <tr>\n",
       "      <th>4</th>\n",
       "      <td>-0.408002</td>\n",
       "      <td>-1.227655</td>\n",
       "      <td>0.130598</td>\n",
       "      <td>0.125086</td>\n",
       "    </tr>\n",
       "    <tr>\n",
       "      <th>...</th>\n",
       "      <td>...</td>\n",
       "      <td>...</td>\n",
       "      <td>...</td>\n",
       "      <td>...</td>\n",
       "    </tr>\n",
       "    <tr>\n",
       "      <th>115</th>\n",
       "      <td>-1.124492</td>\n",
       "      <td>1.235118</td>\n",
       "      <td>-1.345722</td>\n",
       "      <td>-1.454945</td>\n",
       "    </tr>\n",
       "    <tr>\n",
       "      <th>116</th>\n",
       "      <td>-1.363322</td>\n",
       "      <td>0.339564</td>\n",
       "      <td>-1.402504</td>\n",
       "      <td>-1.323276</td>\n",
       "    </tr>\n",
       "    <tr>\n",
       "      <th>117</th>\n",
       "      <td>-0.408002</td>\n",
       "      <td>2.578448</td>\n",
       "      <td>-1.345722</td>\n",
       "      <td>-1.323276</td>\n",
       "    </tr>\n",
       "    <tr>\n",
       "      <th>118</th>\n",
       "      <td>1.263810</td>\n",
       "      <td>0.115676</td>\n",
       "      <td>0.641631</td>\n",
       "      <td>0.388424</td>\n",
       "    </tr>\n",
       "    <tr>\n",
       "      <th>119</th>\n",
       "      <td>-1.482738</td>\n",
       "      <td>0.115676</td>\n",
       "      <td>-1.288941</td>\n",
       "      <td>-1.323276</td>\n",
       "    </tr>\n",
       "  </tbody>\n",
       "</table>\n",
       "<p>120 rows × 4 columns</p>\n",
       "</div>"
      ],
      "text/plain": [
       "     sepal_length  sepal_width  petal_length  petal_width\n",
       "0       -1.721568    -0.332101     -1.345722    -1.323276\n",
       "1       -1.124492    -1.227655      0.414505     0.651763\n",
       "2        1.144395    -0.555990      0.584850     0.256755\n",
       "3       -1.124492     0.115676     -1.288941    -1.454945\n",
       "4       -0.408002    -1.227655      0.130598     0.125086\n",
       "..            ...          ...           ...          ...\n",
       "115     -1.124492     1.235118     -1.345722    -1.454945\n",
       "116     -1.363322     0.339564     -1.402504    -1.323276\n",
       "117     -0.408002     2.578448     -1.345722    -1.323276\n",
       "118      1.263810     0.115676      0.641631     0.388424\n",
       "119     -1.482738     0.115676     -1.288941    -1.323276\n",
       "\n",
       "[120 rows x 4 columns]"
      ]
     },
     "execution_count": 17,
     "metadata": {},
     "output_type": "execute_result"
    }
   ],
   "source": [
    "x_train_std"
   ]
  },
  {
   "cell_type": "markdown",
   "id": "80504157",
   "metadata": {},
   "source": [
    "# apply PCA"
   ]
  },
  {
   "cell_type": "code",
   "execution_count": 18,
   "id": "627331bc",
   "metadata": {},
   "outputs": [
    {
     "data": {
      "text/plain": [
       "array([[-2.35430673e+00, -1.03369922e+00,  1.52775702e-01,\n",
       "        -3.84553375e-02],\n",
       "       [ 3.28116465e-01, -1.48461375e+00,  1.01638985e+00,\n",
       "        -1.53104777e-01],\n",
       "       [ 1.22908440e+00, -8.85247641e-02, -7.11981506e-01,\n",
       "         3.65140715e-02],\n",
       "       [-2.19452009e+00, -4.14496785e-01, -2.57827412e-01,\n",
       "        -4.35354301e-02],\n",
       "       [ 2.42488226e-01, -1.27773347e+00,  1.21753762e-01,\n",
       "        -8.72508625e-03],\n",
       "       [ 1.52294955e+00, -8.77493281e-01,  6.60517126e-03,\n",
       "         2.06085665e-01],\n",
       "       [ 2.58154362e-01, -8.14565655e-01,  1.50015449e-01,\n",
       "        -1.18688745e-01],\n",
       "       [ 1.08813566e+00, -2.83078283e-01, -1.70505915e-01,\n",
       "        -1.91388992e-01],\n",
       "       [ 2.78165650e+00,  8.02602481e-01, -5.40447994e-01,\n",
       "         3.02425920e-01],\n",
       "       [ 2.45214546e+00,  2.47719638e+00, -1.79181696e-01,\n",
       "        -2.43573188e-01],\n",
       "       [ 2.73500972e+00,  7.51203467e-01, -5.81258233e-01,\n",
       "        -9.47231658e-02],\n",
       "       [ 6.44517979e-01, -2.07689984e-01,  9.25728362e-02,\n",
       "        -4.02454650e-02],\n",
       "       [-1.77350035e-01, -2.56577792e+00,  1.77232860e-02,\n",
       "        -2.05169808e-02],\n",
       "       [ 1.27523890e-01, -7.59138680e-01, -2.82143730e-01,\n",
       "        -2.15626963e-01],\n",
       "       [ 3.00081172e-01, -9.52474607e-01, -1.72676124e-01,\n",
       "        -6.91825271e-03],\n",
       "       [-2.26948632e+00, -2.78114937e-01,  5.69934562e-02,\n",
       "        -1.09827809e-01],\n",
       "       [-2.31638839e+00,  1.15100260e+00,  8.33307787e-02,\n",
       "        -2.04610959e-02],\n",
       "       [ 1.96442486e+00, -7.07714727e-01, -3.61423294e-01,\n",
       "        -9.83337942e-02],\n",
       "       [ 1.33662596e+00,  4.18606128e-01,  1.73741722e-01,\n",
       "        -2.11301359e-01],\n",
       "       [-1.82655915e+00,  4.47371644e-01, -2.92540118e-01,\n",
       "         2.46717735e-01],\n",
       "       [ 1.19203651e+00, -9.13943237e-01, -3.35331815e-01,\n",
       "        -2.38267139e-02],\n",
       "       [-2.35781737e+00,  1.14379899e+00,  7.68491230e-03,\n",
       "        -1.34786833e-01],\n",
       "       [ 2.32990455e+00,  2.53829986e+00, -5.43565712e-01,\n",
       "        -1.80707555e-01],\n",
       "       [-1.96744528e+00, -5.71936108e-01, -3.03004350e-01,\n",
       "         3.74326983e-02],\n",
       "       [-2.33753617e-02, -1.51777717e+00, -2.02102892e-01,\n",
       "        -5.32982642e-02],\n",
       "       [ 1.42007810e+00, -3.99803746e-02,  1.69092147e-01,\n",
       "        -2.37772042e-01],\n",
       "       [ 1.57165511e+00, -4.12798363e-01,  4.27375627e-02,\n",
       "         5.06438922e-02],\n",
       "       [-2.04514806e+00,  2.82606313e-01,  6.28081129e-02,\n",
       "         7.29865447e-02],\n",
       "       [ 9.54049261e-01, -5.33490687e-01,  8.39421201e-01,\n",
       "         1.93624697e-02],\n",
       "       [-2.27539463e+00,  4.78564537e-01,  5.37426077e-03,\n",
       "         1.15037913e-01],\n",
       "       [-2.18526009e+00,  9.50463064e-01,  1.17152519e-01,\n",
       "         7.39218776e-02],\n",
       "       [ 4.49951032e-01, -4.00484070e-01, -2.50378037e-01,\n",
       "         1.07048477e-01],\n",
       "       [ 6.09336183e-01,  3.59497645e-02, -2.02475814e-02,\n",
       "        -1.48043283e-01],\n",
       "       [-2.20443687e+00,  2.66479346e+00, -5.61999582e-02,\n",
       "         8.75540410e-02],\n",
       "       [ 1.84152717e+00,  6.51136706e-01, -1.79261789e-02,\n",
       "         2.01035970e-01],\n",
       "       [ 1.38013471e+00,  1.00539712e+00,  9.06277126e-01,\n",
       "         3.76822832e-02],\n",
       "       [-7.69598363e-02, -1.01914466e+00, -2.92193403e-01,\n",
       "         5.07138017e-02],\n",
       "       [-1.81238345e-02, -9.76708689e-01,  5.57397434e-01,\n",
       "        -4.16598560e-02],\n",
       "       [ 1.99938510e+00,  1.02603515e+00,  6.12880640e-01,\n",
       "         2.24794883e-01],\n",
       "       [ 7.34154690e-01,  4.09321105e-01,  6.02688533e-01,\n",
       "        -7.88062562e-02],\n",
       "       [-2.43732364e+00,  1.04528957e-01,  3.11027661e-01,\n",
       "        -3.31579265e-02],\n",
       "       [ 1.09521956e+00,  8.30175345e-01, -6.94811652e-01,\n",
       "         4.39773232e-02],\n",
       "       [-2.17593748e+00,  1.49066868e+00, -5.98073737e-02,\n",
       "         2.09997212e-01],\n",
       "       [ 2.40838143e+00,  2.24419806e-01, -7.13295791e-01,\n",
       "        -1.80836802e-02],\n",
       "       [-2.09643121e+00, -6.16563425e-01, -2.31876376e-01,\n",
       "         9.63256574e-02],\n",
       "       [-2.17944813e+00,  5.21664749e-01, -7.36244169e-02,\n",
       "         1.01623068e-01],\n",
       "       [ 1.12813377e+00, -6.65291223e-01,  5.48212445e-01,\n",
       "        -5.07794936e-02],\n",
       "       [-2.21292277e+00, -1.59504027e-01, -2.35097505e-01,\n",
       "         1.68274454e-01],\n",
       "       [-1.91001128e+00, -2.24054399e+00, -1.56616797e-01,\n",
       "         2.61145769e-01],\n",
       "       [-2.23380670e+00, -6.66867247e-01, -2.28523565e-01,\n",
       "        -4.58523495e-03],\n",
       "       [-2.08486989e+00, -6.49405821e-01, -6.14904242e-02,\n",
       "         1.33110012e-01],\n",
       "       [-5.34019717e-02, -4.05187781e-01,  2.02180886e-01,\n",
       "         1.03109239e-01],\n",
       "       [ 1.84687504e+00,  8.64324027e-01,  9.83970279e-01,\n",
       "        -3.98925352e-02],\n",
       "       [ 3.63519818e-01, -5.59140985e-01,  1.36453010e-01,\n",
       "        -2.48595169e-01],\n",
       "       [-2.25391653e+00,  5.12934036e-01, -1.57140987e-01,\n",
       "         3.27754450e-02],\n",
       "       [ 9.46592753e-01, -4.63808095e-03,  5.26910984e-01,\n",
       "        -1.64169898e-01],\n",
       "       [ 2.31362124e-01, -5.65249401e-01,  1.04970194e-01,\n",
       "        -6.66827125e-02],\n",
       "       [ 1.58358904e+00,  1.05875515e+00,  9.18665722e-01,\n",
       "         4.76369474e-02],\n",
       "       [-2.39847225e+00, -3.22742254e-01,  1.28121430e-01,\n",
       "        -5.09348497e-02],\n",
       "       [ 1.12813377e+00, -6.65291223e-01,  5.48212445e-01,\n",
       "        -5.07794936e-02],\n",
       "       [-2.03532762e+00,  6.77699367e-01, -5.12489218e-01,\n",
       "         2.06506635e-01],\n",
       "       [ 3.55808019e-01, -1.69627397e+00,  2.23641006e-02,\n",
       "         4.23456139e-02],\n",
       "       [ 1.21997546e+00, -1.11820122e+00,  6.11338032e-01,\n",
       "         8.25536749e-02],\n",
       "       [-2.22078077e+00,  1.86579982e-01,  9.31258477e-02,\n",
       "        -2.65269582e-01],\n",
       "       [ 1.03054272e+00, -6.08337145e-01,  1.23923970e-01,\n",
       "        -1.93195826e-01],\n",
       "       [ 2.43517618e-01, -1.07108552e+00,  1.19414838e-01,\n",
       "        -2.85020516e-01],\n",
       "       [ 2.86980762e+00,  3.67032469e-01, -8.43163142e-01,\n",
       "        -1.25914934e-01],\n",
       "       [ 3.36229751e-01, -1.64712170e-01,  4.89745194e-01,\n",
       "        -1.94033891e-01],\n",
       "       [ 1.04875271e+00, -2.07567585e-01, -3.83598199e-01,\n",
       "         1.00128116e-01],\n",
       "       [ 1.58622924e+00,  6.68475733e-01,  6.25277997e-01,\n",
       "         1.98357635e-01],\n",
       "       [-2.16421721e+00,  3.05190892e-01, -1.98965114e-01,\n",
       "         1.28326811e-02],\n",
       "       [-1.81807325e+00,  1.25166990e-01,  1.76311752e-02,\n",
       "         1.53954673e-01],\n",
       "       [-2.37348351e+00,  6.80631177e-01, -2.05767751e-02,\n",
       "        -2.48231740e-02],\n",
       "       [ 1.20633437e+00, -1.66494621e+00, -2.15937457e-01,\n",
       "        -8.88885847e-02],\n",
       "       [ 2.10381852e-01, -7.44731462e-01, -1.30851997e-01,\n",
       "         1.30245112e-02],\n",
       "       [ 1.84672398e+00,  5.29040635e-01, -7.14329191e-01,\n",
       "        -2.03389446e-01],\n",
       "       [ 8.41324664e-02, -1.50751935e+00, -1.10715618e-01,\n",
       "        -2.99287548e-02],\n",
       "       [ 1.85523086e+00,  3.73127458e-01,  2.57409487e-01,\n",
       "         3.91096256e-01],\n",
       "       [ 1.30212193e+00, -4.69210601e-01,  1.46075577e-02,\n",
       "         1.31645456e-01],\n",
       "       [ 4.35686900e-01,  8.47391973e-01,  4.24563559e-01,\n",
       "        -9.90745920e-02],\n",
       "       [-2.12005169e+00, -4.05766072e-01, -1.74310842e-01,\n",
       "         2.53121933e-02],\n",
       "       [ 1.44381589e+00, -4.12367410e-01,  1.01549013e+00,\n",
       "         2.67923273e-01],\n",
       "       [ 1.16695142e+00, -1.58943551e+00, -4.29029741e-01,\n",
       "         2.02628523e-01],\n",
       "       [-1.95287115e+00,  5.09337988e-01,  2.79536084e-01,\n",
       "         1.85146441e-01],\n",
       "       [ 2.03292235e+00,  8.82449693e-01,  2.22413905e-01,\n",
       "         1.76761524e-01],\n",
       "       [-2.57239781e+00,  1.80292503e+00, -2.14872525e-02,\n",
       "        -2.02699124e-01],\n",
       "       [ 2.27609851e+00,  1.86781986e+00,  3.59101039e-01,\n",
       "         1.26592721e-01],\n",
       "       [-4.88471148e-01, -1.47675837e+00,  2.23491107e-01,\n",
       "         1.80107731e-01],\n",
       "       [ 1.03762661e+00,  5.04916483e-01, -4.00381767e-01,\n",
       "         4.21704897e-02],\n",
       "       [-2.14991934e+00, -4.45812077e-01, -7.95707560e-02,\n",
       "        -5.22291897e-02],\n",
       "       [ 5.55316488e-01, -1.45059401e-01, -2.63940476e-01,\n",
       "        -2.28579457e-02],\n",
       "       [ 1.35965227e+00,  6.80802495e-01,  2.72117496e-01,\n",
       "         1.14834262e-01],\n",
       "       [-2.10976229e+00,  1.16584173e+00,  1.98330165e-01,\n",
       "        -1.33525929e-01],\n",
       "       [-2.64746038e+00, -8.79314103e-01,  1.82211231e-01,\n",
       "        -2.84672378e-02],\n",
       "       [ 1.70151148e+00,  9.91112298e-01,  2.78814358e-01,\n",
       "        -5.05956106e-02],\n",
       "       [ 3.27261147e+00, -2.22616817e-02, -6.76261683e-01,\n",
       "         4.07424080e-02],\n",
       "       [ 1.86831940e+00,  4.01820453e-01,  2.71190764e-02,\n",
       "         1.49029937e-01],\n",
       "       [ 9.91222374e-01, -1.35758068e+00, -6.41108137e-01,\n",
       "         1.16939310e-01],\n",
       "       [ 1.14951552e+00, -3.03040565e-01,  1.43301066e-01,\n",
       "         1.19524951e-01],\n",
       "       [-2.04377979e+00,  1.49677710e+00, -2.83245574e-02,\n",
       "         2.80847563e-02],\n",
       "       [ 2.03609411e+00,  8.43930792e-01,  3.25024695e-01,\n",
       "         5.37420271e-02],\n",
       "       [ 2.07741651e-01, -3.54452048e-01,  1.62535728e-01,\n",
       "        -1.37696177e-01],\n",
       "       [ 1.94841985e+00,  9.68096767e-01, -4.32164980e-01,\n",
       "        -2.07721128e-01],\n",
       "       [ 2.18919835e+00,  5.32648195e-01, -2.02006252e-01,\n",
       "         6.33072874e-02],\n",
       "       [-2.20838273e+00,  1.01614786e+00, -2.23619386e-01,\n",
       "         3.53168833e-04],\n",
       "       [ 6.81130653e-01, -6.19131833e-02, -4.37679240e-01,\n",
       "         4.12685923e-02],\n",
       "       [ 6.06758590e-01, -3.98525055e-01, -2.78799679e-01,\n",
       "        -2.80145944e-01],\n",
       "       [ 7.66133496e-02, -1.53912512e-01,  1.28713988e-01,\n",
       "        -2.32079150e-01],\n",
       "       [ 5.51352483e-02, -1.88282012e-01,  2.91229236e-01,\n",
       "        -1.49816682e-01],\n",
       "       [ 8.64039936e-01,  4.91604457e-01, -5.07510449e-01,\n",
       "         1.09757208e-01],\n",
       "       [-2.15797002e+00,  5.56034249e-01, -2.36139665e-01,\n",
       "         1.93606000e-02],\n",
       "       [ 1.76305029e+00, -1.81485376e-01,  2.83077646e-01,\n",
       "         2.63694468e-02],\n",
       "       [ 5.03598115e-01, -1.72387081e+00, -7.12227350e-01,\n",
       "         2.16544388e-02],\n",
       "       [ 4.25832729e-01, -4.45741563e-02,  2.05524936e-01,\n",
       "         3.85902580e-02],\n",
       "       [-2.31989904e+00,  1.81998670e-01,  6.95137355e-02,\n",
       "        -1.28835240e-01],\n",
       "       [-2.51085900e+00,  6.30327355e-01, -1.72239638e-02,\n",
       "        -1.25734066e-01],\n",
       "       [-2.36860459e+00, -2.82696249e-01,  3.33813440e-02,\n",
       "         2.66065333e-02],\n",
       "       [-2.39890748e+00,  2.14411821e+00, -1.56754701e-01,\n",
       "        -1.77189295e-02],\n",
       "       [ 1.22951962e+00,  5.91116908e-01, -5.58379122e-01,\n",
       "         1.53407996e-02],\n",
       "       [-2.30877293e+00, -5.30485398e-01,  8.62973033e-02,\n",
       "        -7.08776137e-02]])"
      ]
     },
     "execution_count": 18,
     "metadata": {},
     "output_type": "execute_result"
    }
   ],
   "source": [
    "pca = PCA(n_components=None)\n",
    "x_train_pca =pca.fit_transform(x_train_std)\n",
    "x_train_pca"
   ]
  },
  {
   "cell_type": "code",
   "execution_count": 19,
   "id": "a7d8236e",
   "metadata": {},
   "outputs": [
    {
     "data": {
      "text/plain": [
       "['PC1', 'PC2', 'PC3', 'PC4']"
      ]
     },
     "execution_count": 19,
     "metadata": {},
     "output_type": "execute_result"
    }
   ],
   "source": [
    "PC_name_list= [f\"PC{i}\" for i in range(1,x_train_pca.shape[1]+1)]\n",
    "PC_name_list"
   ]
  },
  {
   "cell_type": "code",
   "execution_count": 21,
   "id": "9f5a7809",
   "metadata": {},
   "outputs": [
    {
     "data": {
      "text/html": [
       "<div>\n",
       "<style scoped>\n",
       "    .dataframe tbody tr th:only-of-type {\n",
       "        vertical-align: middle;\n",
       "    }\n",
       "\n",
       "    .dataframe tbody tr th {\n",
       "        vertical-align: top;\n",
       "    }\n",
       "\n",
       "    .dataframe thead th {\n",
       "        text-align: right;\n",
       "    }\n",
       "</style>\n",
       "<table border=\"1\" class=\"dataframe\">\n",
       "  <thead>\n",
       "    <tr style=\"text-align: right;\">\n",
       "      <th></th>\n",
       "      <th>PC1</th>\n",
       "      <th>PC2</th>\n",
       "      <th>PC3</th>\n",
       "      <th>PC4</th>\n",
       "    </tr>\n",
       "  </thead>\n",
       "  <tbody>\n",
       "    <tr>\n",
       "      <th>0</th>\n",
       "      <td>-2.354307</td>\n",
       "      <td>-1.033699</td>\n",
       "      <td>0.152776</td>\n",
       "      <td>-0.038455</td>\n",
       "    </tr>\n",
       "    <tr>\n",
       "      <th>1</th>\n",
       "      <td>0.328116</td>\n",
       "      <td>-1.484614</td>\n",
       "      <td>1.016390</td>\n",
       "      <td>-0.153105</td>\n",
       "    </tr>\n",
       "    <tr>\n",
       "      <th>2</th>\n",
       "      <td>1.229084</td>\n",
       "      <td>-0.088525</td>\n",
       "      <td>-0.711982</td>\n",
       "      <td>0.036514</td>\n",
       "    </tr>\n",
       "    <tr>\n",
       "      <th>3</th>\n",
       "      <td>-2.194520</td>\n",
       "      <td>-0.414497</td>\n",
       "      <td>-0.257827</td>\n",
       "      <td>-0.043535</td>\n",
       "    </tr>\n",
       "    <tr>\n",
       "      <th>4</th>\n",
       "      <td>0.242488</td>\n",
       "      <td>-1.277733</td>\n",
       "      <td>0.121754</td>\n",
       "      <td>-0.008725</td>\n",
       "    </tr>\n",
       "    <tr>\n",
       "      <th>...</th>\n",
       "      <td>...</td>\n",
       "      <td>...</td>\n",
       "      <td>...</td>\n",
       "      <td>...</td>\n",
       "    </tr>\n",
       "    <tr>\n",
       "      <th>115</th>\n",
       "      <td>-2.510859</td>\n",
       "      <td>0.630327</td>\n",
       "      <td>-0.017224</td>\n",
       "      <td>-0.125734</td>\n",
       "    </tr>\n",
       "    <tr>\n",
       "      <th>116</th>\n",
       "      <td>-2.368605</td>\n",
       "      <td>-0.282696</td>\n",
       "      <td>0.033381</td>\n",
       "      <td>0.026607</td>\n",
       "    </tr>\n",
       "    <tr>\n",
       "      <th>117</th>\n",
       "      <td>-2.398907</td>\n",
       "      <td>2.144118</td>\n",
       "      <td>-0.156755</td>\n",
       "      <td>-0.017719</td>\n",
       "    </tr>\n",
       "    <tr>\n",
       "      <th>118</th>\n",
       "      <td>1.229520</td>\n",
       "      <td>0.591117</td>\n",
       "      <td>-0.558379</td>\n",
       "      <td>0.015341</td>\n",
       "    </tr>\n",
       "    <tr>\n",
       "      <th>119</th>\n",
       "      <td>-2.308773</td>\n",
       "      <td>-0.530485</td>\n",
       "      <td>0.086297</td>\n",
       "      <td>-0.070878</td>\n",
       "    </tr>\n",
       "  </tbody>\n",
       "</table>\n",
       "<p>120 rows × 4 columns</p>\n",
       "</div>"
      ],
      "text/plain": [
       "          PC1       PC2       PC3       PC4\n",
       "0   -2.354307 -1.033699  0.152776 -0.038455\n",
       "1    0.328116 -1.484614  1.016390 -0.153105\n",
       "2    1.229084 -0.088525 -0.711982  0.036514\n",
       "3   -2.194520 -0.414497 -0.257827 -0.043535\n",
       "4    0.242488 -1.277733  0.121754 -0.008725\n",
       "..        ...       ...       ...       ...\n",
       "115 -2.510859  0.630327 -0.017224 -0.125734\n",
       "116 -2.368605 -0.282696  0.033381  0.026607\n",
       "117 -2.398907  2.144118 -0.156755 -0.017719\n",
       "118  1.229520  0.591117 -0.558379  0.015341\n",
       "119 -2.308773 -0.530485  0.086297 -0.070878\n",
       "\n",
       "[120 rows x 4 columns]"
      ]
     },
     "execution_count": 21,
     "metadata": {},
     "output_type": "execute_result"
    }
   ],
   "source": [
    "dataframe_pc = pd.DataFrame(x_train_pca,columns=PC_name_list)\n",
    "dataframe_pc"
   ]
  },
  {
   "cell_type": "markdown",
   "id": "ed601058",
   "metadata": {},
   "source": [
    "# Model training"
   ]
  },
  {
   "cell_type": "markdown",
   "id": "fd9e579a",
   "metadata": {},
   "source": [
    "# KNN with & without PCA"
   ]
  },
  {
   "cell_type": "code",
   "execution_count": 22,
   "id": "fcf042f6",
   "metadata": {},
   "outputs": [
    {
     "data": {
      "text/plain": [
       "0.975"
      ]
     },
     "execution_count": 22,
     "metadata": {},
     "output_type": "execute_result"
    }
   ],
   "source": [
    "# withPCA\n",
    "\n",
    "knn= KNeighborsClassifier()\n",
    "knn.fit(dataframe_pc,y_train)\n",
    "knn.score(dataframe_pc,y_train)"
   ]
  },
  {
   "cell_type": "code",
   "execution_count": 23,
   "id": "765b294d",
   "metadata": {},
   "outputs": [
    {
     "data": {
      "text/plain": [
       "0.9666666666666667"
      ]
     },
     "execution_count": 23,
     "metadata": {},
     "output_type": "execute_result"
    }
   ],
   "source": [
    "# without PCA\n",
    "\n",
    "knn= KNeighborsClassifier()\n",
    "knn.fit(x_train,y_train)\n",
    "knn.score(x_train,y_train)"
   ]
  },
  {
   "cell_type": "markdown",
   "id": "ac5b44aa",
   "metadata": {},
   "source": [
    "# Logistic with & without PCA"
   ]
  },
  {
   "cell_type": "code",
   "execution_count": 24,
   "id": "9e7e83a1",
   "metadata": {},
   "outputs": [
    {
     "data": {
      "text/plain": [
       "0.9583333333333334"
      ]
     },
     "execution_count": 24,
     "metadata": {},
     "output_type": "execute_result"
    }
   ],
   "source": [
    "# withPCA\n",
    "\n",
    "logistic= LogisticRegression()\n",
    "logistic.fit(dataframe_pc,y_train)\n",
    "logistic.score(dataframe_pc,y_train)"
   ]
  },
  {
   "cell_type": "code",
   "execution_count": 25,
   "id": "cb5a81c1",
   "metadata": {},
   "outputs": [
    {
     "data": {
      "text/plain": [
       "0.975"
      ]
     },
     "execution_count": 25,
     "metadata": {},
     "output_type": "execute_result"
    }
   ],
   "source": [
    "# without PCA\n",
    "\n",
    "logistic= LogisticRegression()\n",
    "logistic.fit(x_train,y_train)\n",
    "logistic.score(x_train,y_train)"
   ]
  },
  {
   "cell_type": "code",
   "execution_count": 26,
   "id": "b27f8292",
   "metadata": {},
   "outputs": [],
   "source": [
    "# from above there is no change .i.e no dimensionality reduction and and no change in accuracy too\n"
   ]
  },
  {
   "cell_type": "code",
   "execution_count": 27,
   "id": "47377b10",
   "metadata": {},
   "outputs": [
    {
     "data": {
      "text/plain": [
       "array([[ 1.00840336, -0.11327081,  0.88779917,  0.82719054],\n",
       "       [-0.11327081,  1.00840336, -0.40185033, -0.34158723],\n",
       "       [ 0.88779917, -0.40185033,  1.00840336,  0.97179113],\n",
       "       [ 0.82719054, -0.34158723,  0.97179113,  1.00840336]])"
      ]
     },
     "execution_count": 27,
     "metadata": {},
     "output_type": "execute_result"
    }
   ],
   "source": [
    "pca.get_covariance()"
   ]
  },
  {
   "cell_type": "code",
   "execution_count": null,
   "id": "59c309ac",
   "metadata": {},
   "outputs": [],
   "source": []
  },
  {
   "cell_type": "code",
   "execution_count": null,
   "id": "cbb6f8b4",
   "metadata": {},
   "outputs": [],
   "source": []
  },
  {
   "cell_type": "markdown",
   "id": "49015625",
   "metadata": {},
   "source": [
    "### we will find best feature whose cumulative sum is less than 90"
   ]
  },
  {
   "cell_type": "code",
   "execution_count": null,
   "id": "033b2978",
   "metadata": {},
   "outputs": [],
   "source": []
  },
  {
   "cell_type": "code",
   "execution_count": 28,
   "id": "0ef26aa6",
   "metadata": {},
   "outputs": [
    {
     "data": {
      "text/plain": [
       "array([0.72677234, 0.23066667, 0.03781901, 0.00474197])"
      ]
     },
     "execution_count": 28,
     "metadata": {},
     "output_type": "execute_result"
    }
   ],
   "source": [
    "pca.explained_variance_ratio_"
   ]
  },
  {
   "cell_type": "markdown",
   "id": "71f63a35",
   "metadata": {},
   "source": [
    "# cumulative sum"
   ]
  },
  {
   "cell_type": "code",
   "execution_count": 49,
   "id": "1d283c81",
   "metadata": {},
   "outputs": [
    {
     "data": {
      "text/plain": [
       "array([ 72.67723405,  95.74390107,  99.52580251, 100.        ])"
      ]
     },
     "execution_count": 49,
     "metadata": {},
     "output_type": "execute_result"
    }
   ],
   "source": [
    "np.cumsum(pca.explained_variance_ratio_)*100"
   ]
  },
  {
   "cell_type": "code",
   "execution_count": 50,
   "id": "b59a42a3",
   "metadata": {},
   "outputs": [
    {
     "data": {
      "text/plain": [
       "array([0.72677234, 0.95743901, 0.99525803, 1.        ])"
      ]
     },
     "execution_count": 50,
     "metadata": {},
     "output_type": "execute_result"
    }
   ],
   "source": [
    "arr = np.cumsum(pca.explained_variance_ratio_)\n",
    "arr"
   ]
  },
  {
   "cell_type": "code",
   "execution_count": 51,
   "id": "1b57fe3e",
   "metadata": {},
   "outputs": [
    {
     "data": {
      "text/plain": [
       "1"
      ]
     },
     "execution_count": 51,
     "metadata": {},
     "output_type": "execute_result"
    }
   ],
   "source": [
    "np.where(arr>0.90)[0][0]"
   ]
  },
  {
   "cell_type": "code",
   "execution_count": 52,
   "id": "9b9f1266",
   "metadata": {},
   "outputs": [
    {
     "data": {
      "text/plain": [
       "[<matplotlib.lines.Line2D at 0x1c08379da90>]"
      ]
     },
     "execution_count": 52,
     "metadata": {},
     "output_type": "execute_result"
    },
    {
     "data": {
      "image/png": "[encoded data removed]",
      "text/plain": [
       "<Figure size 432x288 with 1 Axes>"
      ]
     },
     "metadata": {
      "needs_background": "light"
     },
     "output_type": "display_data"
    }
   ],
   "source": [
    "plt.plot(arr)"
   ]
  },
  {
   "cell_type": "code",
   "execution_count": 53,
   "id": "4a4f2222",
   "metadata": {},
   "outputs": [
    {
     "ename": "SyntaxError",
     "evalue": "invalid syntax (<ipython-input-53-13535ed59afc>, line 1)",
     "output_type": "error",
     "traceback": [
      "\u001b[1;36m  File \u001b[1;32m\"<ipython-input-53-13535ed59afc>\"\u001b[1;36m, line \u001b[1;32m1\u001b[0m\n\u001b[1;33m    from above plot we can infered that where graph getting stagnet point that will best feature selection point\u001b[0m\n\u001b[1;37m               ^\u001b[0m\n\u001b[1;31mSyntaxError\u001b[0m\u001b[1;31m:\u001b[0m invalid syntax\n"
     ]
    }
   ],
   "source": [
    "from above plot we can infered that where graph getting stagnet point that will best feature selection point\n",
    "\n",
    "here x=2 getting stagnet point number of PC will .ie pc1,pc2"
   ]
  },
  {
   "cell_type": "code",
   "execution_count": null,
   "id": "adf6c9bb",
   "metadata": {},
   "outputs": [],
   "source": []
  },
  {
   "cell_type": "markdown",
   "id": "c3529136",
   "metadata": {},
   "source": [
    "# 2nd method"
   ]
  },
  {
   "cell_type": "code",
   "execution_count": 54,
   "id": "d6684cb0",
   "metadata": {},
   "outputs": [
    {
     "data": {
      "text/html": [
       "<div>\n",
       "<style scoped>\n",
       "    .dataframe tbody tr th:only-of-type {\n",
       "        vertical-align: middle;\n",
       "    }\n",
       "\n",
       "    .dataframe tbody tr th {\n",
       "        vertical-align: top;\n",
       "    }\n",
       "\n",
       "    .dataframe thead th {\n",
       "        text-align: right;\n",
       "    }\n",
       "</style>\n",
       "<table border=\"1\" class=\"dataframe\">\n",
       "  <thead>\n",
       "    <tr style=\"text-align: right;\">\n",
       "      <th></th>\n",
       "      <th>sepal_length</th>\n",
       "      <th>sepal_width</th>\n",
       "      <th>petal_length</th>\n",
       "      <th>petal_width</th>\n",
       "    </tr>\n",
       "  </thead>\n",
       "  <tbody>\n",
       "    <tr>\n",
       "      <th>0</th>\n",
       "      <td>-1.721568</td>\n",
       "      <td>-0.332101</td>\n",
       "      <td>-1.345722</td>\n",
       "      <td>-1.323276</td>\n",
       "    </tr>\n",
       "  </tbody>\n",
       "</table>\n",
       "</div>"
      ],
      "text/plain": [
       "   sepal_length  sepal_width  petal_length  petal_width\n",
       "0     -1.721568    -0.332101     -1.345722    -1.323276"
      ]
     },
     "execution_count": 54,
     "metadata": {},
     "output_type": "execute_result"
    }
   ],
   "source": [
    "st_scl =StandardScaler()\n",
    "st_arr =st_scl.fit_transform(x_train)\n",
    "x_train_std = pd.DataFrame(st_arr,columns=x_train.columns)\n",
    "x_train_std.head(1)"
   ]
  },
  {
   "cell_type": "code",
   "execution_count": 55,
   "id": "4b9d2a42",
   "metadata": {},
   "outputs": [
    {
     "data": {
      "text/plain": [
       "[0.9416666666666667, 0.9416666666666667, 0.975, 0.975]"
      ]
     },
     "execution_count": 55,
     "metadata": {},
     "output_type": "execute_result"
    }
   ],
   "source": [
    "Accuracy_list= []\n",
    "for i in range(1,x_train_std.shape[1]+1):\n",
    "    pca1=PCA(n_components=i)\n",
    "    x_train_pca1=pca1.fit_transform(x_train_std)\n",
    "    pc_name=[f'PC{i}' for i in range(1,x_train_pca1.shape[1]+1)]\n",
    "    x_pc_data= pd.DataFrame(x_train_pca1,columns=pc_name)\n",
    "    # train model\n",
    "    \n",
    "    knnnn= KNeighborsClassifier()\n",
    "    knnnn.fit(x_pc_data,y_train)\n",
    "    Accuracy_list.append(knnnn.score(x_pc_data,y_train))\n",
    "Accuracy_list"
   ]
  },
  {
   "cell_type": "code",
   "execution_count": 56,
   "id": "09eb59a7",
   "metadata": {},
   "outputs": [
    {
     "ename": "SyntaxError",
     "evalue": "invalid syntax (<ipython-input-56-9a437e8fe9e1>, line 1)",
     "output_type": "error",
     "traceback": [
      "\u001b[1;36m  File \u001b[1;32m\"<ipython-input-56-9a437e8fe9e1>\"\u001b[1;36m, line \u001b[1;32m1\u001b[0m\n\u001b[1;33m    [0.9416666666666667 >>>>PC1, 0.9416666666666667>PC2, 0.975>>PC3, 0.975>>>PC4]\u001b[0m\n\u001b[1;37m                          ^\u001b[0m\n\u001b[1;31mSyntaxError\u001b[0m\u001b[1;31m:\u001b[0m invalid syntax\n"
     ]
    }
   ],
   "source": [
    "[0.9416666666666667 >>>>PC1, 0.9416666666666667>PC2, 0.975>>PC3, 0.975>>>PC4]"
   ]
  },
  {
   "cell_type": "markdown",
   "id": "91be0fe9",
   "metadata": {},
   "source": [
    "# test result \n",
    "import"
   ]
  },
  {
   "cell_type": "code",
   "execution_count": 57,
   "id": "480e3945",
   "metadata": {},
   "outputs": [
    {
     "data": {
      "text/plain": [
       "0.975"
      ]
     },
     "execution_count": 57,
     "metadata": {},
     "output_type": "execute_result"
    }
   ],
   "source": [
    "std_scalar = StandardScaler()\n",
    "std_array = std_scalar.fit_transform(x_train)\n",
    "x_train_std = pd.DataFrame(std_array,columns=x_train.columns)\n",
    "\n",
    "pca = PCA(n_components=3)\n",
    "x_train_pca =pca.fit_transform(x_train_std)\n",
    "x_train_pca\n",
    "PC_name_list= [f\"PC{i}\" for i in range(1,x_train_pca.shape[1]+1)]\n",
    "PC_name_list\n",
    "dataframe_pc = pd.DataFrame(x_train_pca,columns=PC_name_list)\n",
    "dataframe_pc\n",
    "# withPCA\n",
    "\n",
    "knn= KNeighborsClassifier()\n",
    "knn.fit(dataframe_pc,y_train)\n",
    "knn.score(dataframe_pc,y_train)"
   ]
  },
  {
   "cell_type": "markdown",
   "id": "dee43c72",
   "metadata": {},
   "source": [
    "# testing unseen data"
   ]
  },
  {
   "cell_type": "code",
   "execution_count": 58,
   "id": "acb59e9b",
   "metadata": {},
   "outputs": [
    {
     "data": {
      "text/plain": [
       "sepal_length    4.9\n",
       "sepal_width     2.4\n",
       "petal_length    3.3\n",
       "petal_width     1.0\n",
       "Name: 57, dtype: float64"
      ]
     },
     "execution_count": 58,
     "metadata": {},
     "output_type": "execute_result"
    }
   ],
   "source": [
    "x_test.iloc[2]"
   ]
  },
  {
   "cell_type": "code",
   "execution_count": 59,
   "id": "24714b5d",
   "metadata": {},
   "outputs": [
    {
     "data": {
      "text/plain": [
       "array(['virginica'], dtype=object)"
      ]
     },
     "execution_count": 59,
     "metadata": {},
     "output_type": "execute_result"
    }
   ],
   "source": [
    "std_test=std_scalar.transform([x_test.iloc[1]])\n",
    "test_pca=pca.transform(std_test)\n",
    "knn.predict(test_pca)"
   ]
  },
  {
   "cell_type": "code",
   "execution_count": null,
   "id": "4ec74ad7",
   "metadata": {},
   "outputs": [],
   "source": []
  },
  {
   "cell_type": "code",
   "execution_count": 60,
   "id": "04f8399e",
   "metadata": {},
   "outputs": [],
   "source": [
    "import pickle"
   ]
  },
  {
   "cell_type": "code",
   "execution_count": 61,
   "id": "c3f2dbd3",
   "metadata": {},
   "outputs": [],
   "source": [
    "import pickle"
   ]
  },
  {
   "cell_type": "code",
   "execution_count": null,
   "id": "2022be29",
   "metadata": {},
   "outputs": [],
   "source": [
    "with open(\"model\",'wb') as file:\n",
    "    p"
   ]
  },
  {
   "cell_type": "code",
   "execution_count": 104,
   "id": "0ab5dd27",
   "metadata": {},
   "outputs": [],
   "source": [
    "# file for >>Std_scale\n",
    "       #    >>PCA\n",
    "        #   >>model\n",
    "with open(\"Std_scale\",\"wb\") as f:\n",
    "    pickle.dump(std_scalar,f)\n",
    "    \n",
    "with open(\"PCA\",\"wb\") as f:\n",
    "    pickle.dump(pca,f)\n",
    "    \n",
    "with open(\"MODEL\",\"wb\") as f:\n",
    "    pickle.dump(knn,f)\n"
   ]
  },
  {
   "cell_type": "markdown",
   "id": "b5e83769",
   "metadata": {},
   "source": []
  },
  {
   "cell_type": "code",
   "execution_count": null,
   "id": "2c0feaa5",
   "metadata": {},
   "outputs": [],
   "source": [
    "Note if when do Feature SCaling >>we create pickle file for std or max scaler>>\n",
    "pass data through the std sclaer so scale of unseen data will rescaled"
   ]
  },
  {
   "cell_type": "code",
   "execution_count": 107,
   "id": "81058494",
   "metadata": {},
   "outputs": [],
   "source": []
  },
  {
   "cell_type": "code",
   "execution_count": null,
   "id": "62fd8118",
   "metadata": {},
   "outputs": [],
   "source": []
  }
 ],
 "metadata": {
  "kernelspec": {
   "display_name": "Python 3 (ipykernel)",
   "language": "python",
   "name": "python3"
  },
  "language_info": {
   "codemirror_mode": {
    "name": "ipython",
    "version": 3
   },
   "file_extension": ".py",
   "mimetype": "text/x-python",
   "name": "python",
   "nbconvert_exporter": "python",
   "pygments_lexer": "ipython3",
   "version": "3.8.16"
  }
 },
 "nbformat": 4,
 "nbformat_minor": 5
}
