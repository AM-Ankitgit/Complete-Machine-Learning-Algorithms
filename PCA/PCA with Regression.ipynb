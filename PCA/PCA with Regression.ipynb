{
 "cells": [
  {
   "cell_type": "code",
   "execution_count": 3,
   "id": "c895d880",
   "metadata": {},
   "outputs": [],
   "source": [
    "import pandas as pd \n",
    "import numpy as np\n",
    "from sklearn.preprocessing import StandardScaler\n",
    "from sklearn.linear_model import LinearRegression\n",
    "from sklearn.neighbors import KNeighborsRegressor\n",
    "from sklearn.model_selection import train_test_split\n",
    "from sklearn.decomposition import PCA\n",
    "\n",
    "import seaborn as sns\n",
    "import matplotlib.pyplot as plt\n",
    "import warnings\n",
    "warnings.filterwarnings('ignore')\n",
    "\n",
    "import plotly.express as px\n"
   ]
  },
  {
   "cell_type": "code",
   "execution_count": null,
   "id": "d054aa2d",
   "metadata": {},
   "outputs": [],
   "source": [
    "import pandas as pd\n",
    "import numpy as np\n",
    "from "
   ]
  },
  {
   "cell_type": "code",
   "execution_count": 1,
   "id": "981d68b7",
   "metadata": {},
   "outputs": [],
   "source": [
    "from sklearn.datasets import load_boston\n"
   ]
  },
  {
   "cell_type": "code",
   "execution_count": 2,
   "id": "c5e4aa44",
   "metadata": {},
   "outputs": [
    {
     "ename": "NameError",
     "evalue": "name 'pd' is not defined",
     "output_type": "error",
     "traceback": [
      "\u001b[1;31m---------------------------------------------------------------------------\u001b[0m",
      "\u001b[1;31mNameError\u001b[0m                                 Traceback (most recent call last)",
      "\u001b[1;32m<ipython-input-2-131f02c6e46a>\u001b[0m in \u001b[0;36m<module>\u001b[1;34m\u001b[0m\n\u001b[1;32m----> 1\u001b[1;33m \u001b[0mx\u001b[0m \u001b[1;33m=\u001b[0m \u001b[0mpd\u001b[0m\u001b[1;33m.\u001b[0m\u001b[0mDataFrame\u001b[0m\u001b[1;33m(\u001b[0m\u001b[0mload_boston\u001b[0m\u001b[1;33m(\u001b[0m\u001b[1;33m)\u001b[0m\u001b[1;33m.\u001b[0m\u001b[0mdata\u001b[0m\u001b[1;33m,\u001b[0m\u001b[0mcolumns\u001b[0m\u001b[1;33m=\u001b[0m\u001b[0mload_boston\u001b[0m\u001b[1;33m(\u001b[0m\u001b[1;33m)\u001b[0m\u001b[1;33m.\u001b[0m\u001b[0mfeature_names\u001b[0m\u001b[1;33m)\u001b[0m\u001b[1;33m\u001b[0m\u001b[1;33m\u001b[0m\u001b[0m\n\u001b[0m\u001b[0;32m      2\u001b[0m \u001b[0my\u001b[0m\u001b[1;33m=\u001b[0m \u001b[0mpd\u001b[0m\u001b[1;33m.\u001b[0m\u001b[0mSeries\u001b[0m\u001b[1;33m(\u001b[0m\u001b[0mload_boston\u001b[0m\u001b[1;33m(\u001b[0m\u001b[1;33m)\u001b[0m\u001b[1;33m.\u001b[0m\u001b[0mtarget\u001b[0m\u001b[1;33m)\u001b[0m\u001b[1;33m\u001b[0m\u001b[1;33m\u001b[0m\u001b[0m\n",
      "\u001b[1;31mNameError\u001b[0m: name 'pd' is not defined"
     ]
    }
   ],
   "source": [
    "x = pd.DataFrame(load_boston().data,columns=load_boston().feature_names)\n",
    "y= pd.Series(load_boston().target)"
   ]
  },
  {
   "cell_type": "code",
   "execution_count": 75,
   "id": "121f37dd",
   "metadata": {},
   "outputs": [],
   "source": [
    "x_train,x_test,y_train,y_test = train_test_split(x,y,test_size=0.2,random_state=43)\n"
   ]
  },
  {
   "cell_type": "markdown",
   "id": "0dbd1821",
   "metadata": {},
   "source": [
    "# with PCA"
   ]
  },
  {
   "cell_type": "code",
   "execution_count": 76,
   "id": "ff81bd6d",
   "metadata": {},
   "outputs": [],
   "source": [
    "std_scalar = StandardScaler()\n",
    "std_arr = std_scalar.fit_transform(x_train)\n",
    "df_std = pd.DataFrame(std_arr,columns=x_train.columns)\n",
    "df_std.head(2)\n",
    "\n",
    "pca=PCA(n_components=None)\n",
    "x_train_pca = pca.fit_transform(df_std)\n",
    "pc_name = [f\"PC{i}\" for i in range(1,x_train.shape[1]+1)]\n",
    "\n",
    "x_train_pca = pd.DataFrame(x_train_pca,columns=pc_name)"
   ]
  },
  {
   "cell_type": "code",
   "execution_count": 77,
   "id": "f500230e",
   "metadata": {},
   "outputs": [
    {
     "data": {
      "text/html": [
       "<div>\n",
       "<style scoped>\n",
       "    .dataframe tbody tr th:only-of-type {\n",
       "        vertical-align: middle;\n",
       "    }\n",
       "\n",
       "    .dataframe tbody tr th {\n",
       "        vertical-align: top;\n",
       "    }\n",
       "\n",
       "    .dataframe thead th {\n",
       "        text-align: right;\n",
       "    }\n",
       "</style>\n",
       "<table border=\"1\" class=\"dataframe\">\n",
       "  <thead>\n",
       "    <tr style=\"text-align: right;\">\n",
       "      <th></th>\n",
       "      <th>PC1</th>\n",
       "      <th>PC2</th>\n",
       "      <th>PC3</th>\n",
       "      <th>PC4</th>\n",
       "      <th>PC5</th>\n",
       "      <th>PC6</th>\n",
       "      <th>PC7</th>\n",
       "      <th>PC8</th>\n",
       "      <th>PC9</th>\n",
       "      <th>PC10</th>\n",
       "      <th>PC11</th>\n",
       "      <th>PC12</th>\n",
       "      <th>PC13</th>\n",
       "    </tr>\n",
       "  </thead>\n",
       "  <tbody>\n",
       "    <tr>\n",
       "      <th>0</th>\n",
       "      <td>5.016174</td>\n",
       "      <td>-1.500917</td>\n",
       "      <td>0.223201</td>\n",
       "      <td>0.800229</td>\n",
       "      <td>-0.153406</td>\n",
       "      <td>-2.043897</td>\n",
       "      <td>2.761636</td>\n",
       "      <td>0.317181</td>\n",
       "      <td>0.187507</td>\n",
       "      <td>-0.685137</td>\n",
       "      <td>0.154275</td>\n",
       "      <td>0.537188</td>\n",
       "      <td>0.108338</td>\n",
       "    </tr>\n",
       "    <tr>\n",
       "      <th>1</th>\n",
       "      <td>1.313429</td>\n",
       "      <td>2.405727</td>\n",
       "      <td>0.674547</td>\n",
       "      <td>-1.214780</td>\n",
       "      <td>-1.366738</td>\n",
       "      <td>-0.835459</td>\n",
       "      <td>-0.977152</td>\n",
       "      <td>0.849683</td>\n",
       "      <td>0.672232</td>\n",
       "      <td>0.210408</td>\n",
       "      <td>1.351534</td>\n",
       "      <td>0.206670</td>\n",
       "      <td>0.026846</td>\n",
       "    </tr>\n",
       "    <tr>\n",
       "      <th>2</th>\n",
       "      <td>-1.390617</td>\n",
       "      <td>-0.090872</td>\n",
       "      <td>-0.466075</td>\n",
       "      <td>0.569203</td>\n",
       "      <td>-1.209385</td>\n",
       "      <td>-0.509335</td>\n",
       "      <td>-0.239619</td>\n",
       "      <td>0.689917</td>\n",
       "      <td>-0.796940</td>\n",
       "      <td>-0.437356</td>\n",
       "      <td>-0.028647</td>\n",
       "      <td>0.302119</td>\n",
       "      <td>-0.053301</td>\n",
       "    </tr>\n",
       "    <tr>\n",
       "      <th>3</th>\n",
       "      <td>3.488983</td>\n",
       "      <td>0.022583</td>\n",
       "      <td>-1.723989</td>\n",
       "      <td>0.800054</td>\n",
       "      <td>-0.759360</td>\n",
       "      <td>-0.421349</td>\n",
       "      <td>-1.453710</td>\n",
       "      <td>-0.781622</td>\n",
       "      <td>0.525252</td>\n",
       "      <td>-1.312562</td>\n",
       "      <td>-0.683145</td>\n",
       "      <td>-0.363261</td>\n",
       "      <td>1.061569</td>\n",
       "    </tr>\n",
       "    <tr>\n",
       "      <th>4</th>\n",
       "      <td>2.966487</td>\n",
       "      <td>0.322684</td>\n",
       "      <td>-2.734640</td>\n",
       "      <td>0.934503</td>\n",
       "      <td>-0.738034</td>\n",
       "      <td>-0.720322</td>\n",
       "      <td>-0.319483</td>\n",
       "      <td>-1.305155</td>\n",
       "      <td>0.478853</td>\n",
       "      <td>-0.976432</td>\n",
       "      <td>-0.613092</td>\n",
       "      <td>0.679839</td>\n",
       "      <td>0.160316</td>\n",
       "    </tr>\n",
       "    <tr>\n",
       "      <th>...</th>\n",
       "      <td>...</td>\n",
       "      <td>...</td>\n",
       "      <td>...</td>\n",
       "      <td>...</td>\n",
       "      <td>...</td>\n",
       "      <td>...</td>\n",
       "      <td>...</td>\n",
       "      <td>...</td>\n",
       "      <td>...</td>\n",
       "      <td>...</td>\n",
       "      <td>...</td>\n",
       "      <td>...</td>\n",
       "      <td>...</td>\n",
       "    </tr>\n",
       "    <tr>\n",
       "      <th>399</th>\n",
       "      <td>-2.755293</td>\n",
       "      <td>1.414494</td>\n",
       "      <td>1.592132</td>\n",
       "      <td>2.680484</td>\n",
       "      <td>1.623723</td>\n",
       "      <td>0.502346</td>\n",
       "      <td>0.069328</td>\n",
       "      <td>0.155795</td>\n",
       "      <td>0.484856</td>\n",
       "      <td>0.049773</td>\n",
       "      <td>-0.287883</td>\n",
       "      <td>0.393702</td>\n",
       "      <td>-0.063862</td>\n",
       "    </tr>\n",
       "    <tr>\n",
       "      <th>400</th>\n",
       "      <td>-1.853354</td>\n",
       "      <td>-0.057853</td>\n",
       "      <td>-0.000809</td>\n",
       "      <td>-0.355244</td>\n",
       "      <td>-0.030162</td>\n",
       "      <td>-0.042538</td>\n",
       "      <td>0.489394</td>\n",
       "      <td>-0.509553</td>\n",
       "      <td>0.238001</td>\n",
       "      <td>0.740209</td>\n",
       "      <td>-0.585293</td>\n",
       "      <td>0.450817</td>\n",
       "      <td>-0.374955</td>\n",
       "    </tr>\n",
       "    <tr>\n",
       "      <th>401</th>\n",
       "      <td>-3.864192</td>\n",
       "      <td>-2.170379</td>\n",
       "      <td>0.353008</td>\n",
       "      <td>1.548547</td>\n",
       "      <td>-0.831986</td>\n",
       "      <td>-1.033142</td>\n",
       "      <td>-0.730739</td>\n",
       "      <td>-0.345720</td>\n",
       "      <td>0.265155</td>\n",
       "      <td>-0.037040</td>\n",
       "      <td>0.333644</td>\n",
       "      <td>-0.213050</td>\n",
       "      <td>0.030291</td>\n",
       "    </tr>\n",
       "    <tr>\n",
       "      <th>402</th>\n",
       "      <td>-1.272249</td>\n",
       "      <td>-0.046895</td>\n",
       "      <td>-0.758148</td>\n",
       "      <td>-0.469337</td>\n",
       "      <td>0.591540</td>\n",
       "      <td>0.571939</td>\n",
       "      <td>0.243513</td>\n",
       "      <td>0.277123</td>\n",
       "      <td>0.057808</td>\n",
       "      <td>0.063079</td>\n",
       "      <td>0.173379</td>\n",
       "      <td>0.099670</td>\n",
       "      <td>-0.051462</td>\n",
       "    </tr>\n",
       "    <tr>\n",
       "      <th>403</th>\n",
       "      <td>-1.473297</td>\n",
       "      <td>-0.218302</td>\n",
       "      <td>-0.694840</td>\n",
       "      <td>-0.430884</td>\n",
       "      <td>0.685502</td>\n",
       "      <td>0.641989</td>\n",
       "      <td>0.148865</td>\n",
       "      <td>0.569283</td>\n",
       "      <td>0.084630</td>\n",
       "      <td>-0.001504</td>\n",
       "      <td>0.188702</td>\n",
       "      <td>0.263769</td>\n",
       "      <td>-0.033647</td>\n",
       "    </tr>\n",
       "  </tbody>\n",
       "</table>\n",
       "<p>404 rows × 13 columns</p>\n",
       "</div>"
      ],
      "text/plain": [
       "          PC1       PC2       PC3       PC4       PC5       PC6       PC7  \\\n",
       "0    5.016174 -1.500917  0.223201  0.800229 -0.153406 -2.043897  2.761636   \n",
       "1    1.313429  2.405727  0.674547 -1.214780 -1.366738 -0.835459 -0.977152   \n",
       "2   -1.390617 -0.090872 -0.466075  0.569203 -1.209385 -0.509335 -0.239619   \n",
       "3    3.488983  0.022583 -1.723989  0.800054 -0.759360 -0.421349 -1.453710   \n",
       "4    2.966487  0.322684 -2.734640  0.934503 -0.738034 -0.720322 -0.319483   \n",
       "..        ...       ...       ...       ...       ...       ...       ...   \n",
       "399 -2.755293  1.414494  1.592132  2.680484  1.623723  0.502346  0.069328   \n",
       "400 -1.853354 -0.057853 -0.000809 -0.355244 -0.030162 -0.042538  0.489394   \n",
       "401 -3.864192 -2.170379  0.353008  1.548547 -0.831986 -1.033142 -0.730739   \n",
       "402 -1.272249 -0.046895 -0.758148 -0.469337  0.591540  0.571939  0.243513   \n",
       "403 -1.473297 -0.218302 -0.694840 -0.430884  0.685502  0.641989  0.148865   \n",
       "\n",
       "          PC8       PC9      PC10      PC11      PC12      PC13  \n",
       "0    0.317181  0.187507 -0.685137  0.154275  0.537188  0.108338  \n",
       "1    0.849683  0.672232  0.210408  1.351534  0.206670  0.026846  \n",
       "2    0.689917 -0.796940 -0.437356 -0.028647  0.302119 -0.053301  \n",
       "3   -0.781622  0.525252 -1.312562 -0.683145 -0.363261  1.061569  \n",
       "4   -1.305155  0.478853 -0.976432 -0.613092  0.679839  0.160316  \n",
       "..        ...       ...       ...       ...       ...       ...  \n",
       "399  0.155795  0.484856  0.049773 -0.287883  0.393702 -0.063862  \n",
       "400 -0.509553  0.238001  0.740209 -0.585293  0.450817 -0.374955  \n",
       "401 -0.345720  0.265155 -0.037040  0.333644 -0.213050  0.030291  \n",
       "402  0.277123  0.057808  0.063079  0.173379  0.099670 -0.051462  \n",
       "403  0.569283  0.084630 -0.001504  0.188702  0.263769 -0.033647  \n",
       "\n",
       "[404 rows x 13 columns]"
      ]
     },
     "execution_count": 77,
     "metadata": {},
     "output_type": "execute_result"
    }
   ],
   "source": [
    "x_train_pca"
   ]
  },
  {
   "cell_type": "markdown",
   "id": "d62267d7",
   "metadata": {},
   "source": [
    "# model training"
   ]
  },
  {
   "cell_type": "markdown",
   "id": "85d62195",
   "metadata": {},
   "source": [
    "#### with pca"
   ]
  },
  {
   "cell_type": "code",
   "execution_count": 78,
   "id": "b283049e",
   "metadata": {},
   "outputs": [
    {
     "data": {
      "text/plain": [
       "0.7323419940116793"
      ]
     },
     "execution_count": 78,
     "metadata": {},
     "output_type": "execute_result"
    }
   ],
   "source": [
    "lr1 =LinearRegression()\n",
    "lr1.fit(x_train_pca,y_train)\n",
    "lr1.score(x_train_pca,y_train)"
   ]
  },
  {
   "cell_type": "markdown",
   "id": "5ede500c",
   "metadata": {},
   "source": [
    "#### without pca"
   ]
  },
  {
   "cell_type": "code",
   "execution_count": 79,
   "id": "8b3840b3",
   "metadata": {},
   "outputs": [
    {
     "data": {
      "text/plain": [
       "0.7323419940116792"
      ]
     },
     "execution_count": 79,
     "metadata": {},
     "output_type": "execute_result"
    }
   ],
   "source": [
    "lr2 =LinearRegression()\n",
    "lr2.fit(x_train,y_train)\n",
    "lr2.score(x_train,y_train)"
   ]
  },
  {
   "cell_type": "code",
   "execution_count": 80,
   "id": "ac84cbdd",
   "metadata": {},
   "outputs": [],
   "source": [
    "# from above observation there is no effect of pca>>bcz >>\n",
    "# conclusion >> we are providing same number of columns"
   ]
  },
  {
   "cell_type": "code",
   "execution_count": 81,
   "id": "d0b53ac1",
   "metadata": {},
   "outputs": [],
   "source": [
    "# Note>> we will use n_componet for to check accuracy to each pca\n"
   ]
  },
  {
   "cell_type": "code",
   "execution_count": null,
   "id": "b1305df8",
   "metadata": {},
   "outputs": [],
   "source": []
  },
  {
   "cell_type": "code",
   "execution_count": 82,
   "id": "957344d4",
   "metadata": {},
   "outputs": [
    {
     "data": {
      "text/plain": [
       "[0.3715033390803556,\n",
       " 0.46244374204178595,\n",
       " 0.6137057646114532,\n",
       " 0.6617522440013042,\n",
       " 0.6828157596999151,\n",
       " 0.683695612692141,\n",
       " 0.6845795813458437,\n",
       " 0.6916784894840715,\n",
       " 0.6944407814160827,\n",
       " 0.7004836375785153,\n",
       " 0.7210503306863237,\n",
       " 0.7252928154054101,\n",
       " 0.7323419940116793]"
      ]
     },
     "execution_count": 82,
     "metadata": {},
     "output_type": "execute_result"
    }
   ],
   "source": [
    "std_scalar = StandardScaler()\n",
    "std_arr = std_scalar.fit_transform(x_train)\n",
    "df_std = pd.DataFrame(std_arr,columns=x_train.columns)\n",
    "\n",
    "\n",
    "list_score = []\n",
    "for i in range(1,df_std.shape[1]+1):\n",
    "    pca=PCA(n_components=i)\n",
    "    x_train_pca = pca.fit_transform(df_std)\n",
    "    pc_name = [f\"PC{i}\" for i in range(1,x_train_pca.shape[1]+1)]\n",
    "    x_train_pca = pd.DataFrame(x_train_pca,columns=pc_name)\n",
    "    \n",
    "    # Linear model\n",
    "    lr1 =LinearRegression()\n",
    "    lr1.fit(x_train_pca,y_train)\n",
    "    list_score.append(lr1.score(x_train_pca,y_train))\n",
    "list_score"
   ]
  },
  {
   "cell_type": "markdown",
   "id": "6ce69720",
   "metadata": {},
   "source": [
    "# KNN_model"
   ]
  },
  {
   "cell_type": "code",
   "execution_count": 83,
   "id": "72816ff9",
   "metadata": {},
   "outputs": [
    {
     "data": {
      "text/plain": [
       "[0.5057511097129648,\n",
       " 0.721771635433994,\n",
       " 0.7614501950717681,\n",
       " 0.794050803803853,\n",
       " 0.8012032693285052,\n",
       " 0.8037555723864906,\n",
       " 0.8041977301351609,\n",
       " 0.8133511242055265,\n",
       " 0.8063056990452455,\n",
       " 0.8194847823798285,\n",
       " 0.8267199510752453,\n",
       " 0.8246421872196766,\n",
       " 0.8268166024399742]"
      ]
     },
     "execution_count": 83,
     "metadata": {},
     "output_type": "execute_result"
    }
   ],
   "source": [
    "std_scalar = StandardScaler()\n",
    "std_arr = std_scalar.fit_transform(x_train)\n",
    "df_std = pd.DataFrame(std_arr,columns=x_train.columns)\n",
    "\n",
    "\n",
    "list_score = []\n",
    "for i in range(1,df_std.shape[1]+1):\n",
    "    pca=PCA(n_components=i)\n",
    "    x_train_pca = pca.fit_transform(df_std)\n",
    "    pc_name = [f\"PC{i}\" for i in range(1,x_train_pca.shape[1]+1)]\n",
    "    x_train_pca = pd.DataFrame(x_train_pca,columns=pc_name)\n",
    "    \n",
    "    # knn model\n",
    "    knn =KNeighborsRegressor()\n",
    "    knn.fit(x_train_pca,y_train)\n",
    "    list_score.append(knn.score(x_train_pca,y_train))\n",
    "list_score"
   ]
  },
  {
   "cell_type": "code",
   "execution_count": 84,
   "id": "63f666c9",
   "metadata": {},
   "outputs": [
    {
     "data": {
      "text/plain": [
       "13"
      ]
     },
     "execution_count": 84,
     "metadata": {},
     "output_type": "execute_result"
    }
   ],
   "source": [
    "len(list_score)"
   ]
  },
  {
   "cell_type": "code",
   "execution_count": 85,
   "id": "737f18ff",
   "metadata": {},
   "outputs": [
    {
     "data": {
      "text/plain": [
       "[<matplotlib.lines.Line2D at 0x2126da15790>]"
      ]
     },
     "execution_count": 85,
     "metadata": {},
     "output_type": "execute_result"
    },
    {
     "data": {
      "image/png": "[encoded data removed]",
      "text/plain": [
       "<Figure size 432x288 with 1 Axes>"
      ]
     },
     "metadata": {
      "needs_background": "light"
     },
     "output_type": "display_data"
    }
   ],
   "source": [
    "plt.plot(range(1,14),list_score)"
   ]
  },
  {
   "cell_type": "code",
   "execution_count": 91,
   "id": "51e420a1",
   "metadata": {},
   "outputs": [
    {
     "data": {
      "text/plain": [
       "0.8194847823798285"
      ]
     },
     "execution_count": 91,
     "metadata": {},
     "output_type": "execute_result"
    }
   ],
   "source": [
    "std_scalar = StandardScaler()\n",
    "std_arr = std_scalar.fit_transform(x_train)\n",
    "df_std = pd.DataFrame(std_arr,columns=x_train.columns)\n",
    "df_std.head(2)\n",
    "\n",
    "pca=PCA(n_components=10)\n",
    "x_train_pca = pca.fit_transform(df_std)\n",
    "pc_name = [f\"PC{i}\" for i in range(1,x_train_pca.shape[1]+1)]\n",
    "\n",
    "x_train_pca = pd.DataFrame(x_train_pca,columns=pc_name)\n",
    "\n",
    "\n",
    "knn =KNeighborsRegressor()\n",
    "knn.fit(x_train_pca,y_train)\n",
    "knn.score(x_train_pca,y_train)"
   ]
  },
  {
   "cell_type": "code",
   "execution_count": null,
   "id": "7e2503e2",
   "metadata": {},
   "outputs": [],
   "source": []
  },
  {
   "cell_type": "code",
   "execution_count": null,
   "id": "916e9989",
   "metadata": {},
   "outputs": [],
   "source": []
  },
  {
   "cell_type": "code",
   "execution_count": null,
   "id": "480e731f",
   "metadata": {},
   "outputs": [],
   "source": []
  },
  {
   "cell_type": "code",
   "execution_count": null,
   "id": "f6b248ac",
   "metadata": {},
   "outputs": [],
   "source": []
  },
  {
   "cell_type": "code",
   "execution_count": null,
   "id": "4b5a6dad",
   "metadata": {},
   "outputs": [],
   "source": []
  },
  {
   "cell_type": "code",
   "execution_count": null,
   "id": "94f338dd",
   "metadata": {},
   "outputs": [],
   "source": []
  }
 ],
 "metadata": {
  "kernelspec": {
   "display_name": "Python 3 (ipykernel)",
   "language": "python",
   "name": "python3"
  },
  "language_info": {
   "codemirror_mode": {
    "name": "ipython",
    "version": 3
   },
   "file_extension": ".py",
   "mimetype": "text/x-python",
   "name": "python",
   "nbconvert_exporter": "python",
   "pygments_lexer": "ipython3",
   "version": "3.8.16"
  }
 },
 "nbformat": 4,
 "nbformat_minor": 5
}
